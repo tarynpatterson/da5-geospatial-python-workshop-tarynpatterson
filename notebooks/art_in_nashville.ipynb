{
 "cells": [
  {
   "cell_type": "markdown",
   "id": "d3a0f4ea",
   "metadata": {},
   "source": [
    "Import packages"
   ]
  },
  {
   "cell_type": "code",
   "execution_count": 2,
   "id": "2aa6cb6e",
   "metadata": {},
   "outputs": [],
   "source": [
    "from shapely.geometry import Point\n",
    "import pandas as pd\n",
    "import geopandas as gpd\n",
    "import matplotlib.pyplot as plt\n",
    "import folium\n",
    "from folium.plugins import MarkerCluster\n",
    "from folium.plugins import FastMarkerCluster"
   ]
  },
  {
   "cell_type": "markdown",
   "id": "5d566cb5",
   "metadata": {},
   "source": [
    "Load the Nashville zipcode data"
   ]
  },
  {
   "cell_type": "code",
   "execution_count": 3,
   "id": "51498f07",
   "metadata": {},
   "outputs": [
    {
     "name": "stdout",
     "output_type": "stream",
     "text": [
      "epsg:4326\n"
     ]
    },
    {
     "data": {
      "text/html": [
       "<div>\n",
       "<style scoped>\n",
       "    .dataframe tbody tr th:only-of-type {\n",
       "        vertical-align: middle;\n",
       "    }\n",
       "\n",
       "    .dataframe tbody tr th {\n",
       "        vertical-align: top;\n",
       "    }\n",
       "\n",
       "    .dataframe thead th {\n",
       "        text-align: right;\n",
       "    }\n",
       "</style>\n",
       "<table border=\"1\" class=\"dataframe\">\n",
       "  <thead>\n",
       "    <tr style=\"text-align: right;\">\n",
       "      <th></th>\n",
       "      <th>zip</th>\n",
       "      <th>objectid</th>\n",
       "      <th>po_name</th>\n",
       "      <th>shape_stlength</th>\n",
       "      <th>shape_starea</th>\n",
       "      <th>geometry</th>\n",
       "    </tr>\n",
       "  </thead>\n",
       "  <tbody>\n",
       "    <tr>\n",
       "      <th>0</th>\n",
       "      <td>37115</td>\n",
       "      <td>1</td>\n",
       "      <td>MADISON</td>\n",
       "      <td>178783.02488886821</td>\n",
       "      <td>596553400.57885742</td>\n",
       "      <td>MULTIPOLYGON (((-86.68725 36.31821, -86.68722 ...</td>\n",
       "    </tr>\n",
       "    <tr>\n",
       "      <th>1</th>\n",
       "      <td>37216</td>\n",
       "      <td>3</td>\n",
       "      <td>NASHVILLE</td>\n",
       "      <td>75820.997821400058</td>\n",
       "      <td>188884682.28344727</td>\n",
       "      <td>MULTIPOLYGON (((-86.73451 36.23774, -86.73425 ...</td>\n",
       "    </tr>\n",
       "    <tr>\n",
       "      <th>2</th>\n",
       "      <td>37204</td>\n",
       "      <td>9</td>\n",
       "      <td>NASHVILLE</td>\n",
       "      <td>93180.292250425613</td>\n",
       "      <td>200664795.51708984</td>\n",
       "      <td>MULTIPOLYGON (((-86.77914 36.13424, -86.77923 ...</td>\n",
       "    </tr>\n",
       "    <tr>\n",
       "      <th>3</th>\n",
       "      <td>37027</td>\n",
       "      <td>11</td>\n",
       "      <td>BRENTWOOD</td>\n",
       "      <td>159760.6942933173</td>\n",
       "      <td>174978422.04101562</td>\n",
       "      <td>MULTIPOLYGON (((-86.81258 36.06319, -86.81263 ...</td>\n",
       "    </tr>\n",
       "    <tr>\n",
       "      <th>4</th>\n",
       "      <td>37064</td>\n",
       "      <td>18</td>\n",
       "      <td>FRANKLIN</td>\n",
       "      <td>28995.828320601937</td>\n",
       "      <td>46969608.005737305</td>\n",
       "      <td>MULTIPOLYGON (((-87.02197 36.01200, -87.02140 ...</td>\n",
       "    </tr>\n",
       "  </tbody>\n",
       "</table>\n",
       "</div>"
      ],
      "text/plain": [
       "     zip objectid    po_name      shape_stlength        shape_starea  \\\n",
       "0  37115        1    MADISON  178783.02488886821  596553400.57885742   \n",
       "1  37216        3  NASHVILLE  75820.997821400058  188884682.28344727   \n",
       "2  37204        9  NASHVILLE  93180.292250425613  200664795.51708984   \n",
       "3  37027       11  BRENTWOOD   159760.6942933173  174978422.04101562   \n",
       "4  37064       18   FRANKLIN  28995.828320601937  46969608.005737305   \n",
       "\n",
       "                                            geometry  \n",
       "0  MULTIPOLYGON (((-86.68725 36.31821, -86.68722 ...  \n",
       "1  MULTIPOLYGON (((-86.73451 36.23774, -86.73425 ...  \n",
       "2  MULTIPOLYGON (((-86.77914 36.13424, -86.77923 ...  \n",
       "3  MULTIPOLYGON (((-86.81258 36.06319, -86.81263 ...  \n",
       "4  MULTIPOLYGON (((-87.02197 36.01200, -87.02140 ...  "
      ]
     },
     "execution_count": 3,
     "metadata": {},
     "output_type": "execute_result"
    }
   ],
   "source": [
    "zipcodes = gpd.read_file('../data/zipcodes.geojson')\n",
    "print(zipcodes.crs)\n",
    "zipcodes.head( )"
   ]
  },
  {
   "cell_type": "markdown",
   "id": "f4a80fbe",
   "metadata": {},
   "source": [
    "Read art data"
   ]
  },
  {
   "cell_type": "code",
   "execution_count": 7,
   "id": "364ab82e",
   "metadata": {
    "scrolled": true
   },
   "outputs": [
    {
     "name": "stdout",
     "output_type": "stream",
     "text": [
      "(164, 10)\n"
     ]
    },
    {
     "data": {
      "text/html": [
       "<div>\n",
       "<style scoped>\n",
       "    .dataframe tbody tr th:only-of-type {\n",
       "        vertical-align: middle;\n",
       "    }\n",
       "\n",
       "    .dataframe tbody tr th {\n",
       "        vertical-align: top;\n",
       "    }\n",
       "\n",
       "    .dataframe thead th {\n",
       "        text-align: right;\n",
       "    }\n",
       "</style>\n",
       "<table border=\"1\" class=\"dataframe\">\n",
       "  <thead>\n",
       "    <tr style=\"text-align: right;\">\n",
       "      <th></th>\n",
       "      <th>Title</th>\n",
       "      <th>Artist Last Name</th>\n",
       "      <th>Artist First Name</th>\n",
       "      <th>Location</th>\n",
       "      <th>Medium</th>\n",
       "      <th>Type</th>\n",
       "      <th>Description</th>\n",
       "      <th>Latitude</th>\n",
       "      <th>Longitude</th>\n",
       "      <th>Mapped Location</th>\n",
       "    </tr>\n",
       "  </thead>\n",
       "  <tbody>\n",
       "    <tr>\n",
       "      <th>0</th>\n",
       "      <td>Les Paul Guitar Mural</td>\n",
       "      <td>Hughes</td>\n",
       "      <td>Milree</td>\n",
       "      <td>100 Broadway, Nashville TN</td>\n",
       "      <td>Painting</td>\n",
       "      <td>Mural</td>\n",
       "      <td>NaN</td>\n",
       "      <td>36.16240</td>\n",
       "      <td>-86.77491</td>\n",
       "      <td>(36.1624, -86.77491)</td>\n",
       "    </tr>\n",
       "    <tr>\n",
       "      <th>1</th>\n",
       "      <td>Sam Davis</td>\n",
       "      <td>LeQuire</td>\n",
       "      <td>Alan</td>\n",
       "      <td>4001 Harding Road, Nashville TN</td>\n",
       "      <td>Bronze</td>\n",
       "      <td>Sculpture</td>\n",
       "      <td>NaN</td>\n",
       "      <td>36.12856</td>\n",
       "      <td>-86.83660</td>\n",
       "      <td>(36.12856, -86.8366)</td>\n",
       "    </tr>\n",
       "    <tr>\n",
       "      <th>2</th>\n",
       "      <td>The Flutist</td>\n",
       "      <td>Varo</td>\n",
       "      <td>Marton</td>\n",
       "      <td>1 Symphony Place, Nashville TN</td>\n",
       "      <td>Marble</td>\n",
       "      <td>Sculpture</td>\n",
       "      <td>Statue commemorating Kenneth D Schermerhorn, M...</td>\n",
       "      <td>36.15961</td>\n",
       "      <td>-86.77594</td>\n",
       "      <td>(36.15961, -86.77594)</td>\n",
       "    </tr>\n",
       "  </tbody>\n",
       "</table>\n",
       "</div>"
      ],
      "text/plain": [
       "                   Title Artist Last Name Artist First Name  \\\n",
       "0  Les Paul Guitar Mural           Hughes            Milree   \n",
       "1              Sam Davis          LeQuire              Alan   \n",
       "2            The Flutist             Varo            Marton   \n",
       "\n",
       "                          Location    Medium       Type  \\\n",
       "0       100 Broadway, Nashville TN  Painting      Mural   \n",
       "1  4001 Harding Road, Nashville TN    Bronze  Sculpture   \n",
       "2   1 Symphony Place, Nashville TN    Marble  Sculpture   \n",
       "\n",
       "                                         Description  Latitude  Longitude  \\\n",
       "0                                                NaN  36.16240  -86.77491   \n",
       "1                                                NaN  36.12856  -86.83660   \n",
       "2  Statue commemorating Kenneth D Schermerhorn, M...  36.15961  -86.77594   \n",
       "\n",
       "         Mapped Location  \n",
       "0   (36.1624, -86.77491)  \n",
       "1   (36.12856, -86.8366)  \n",
       "2  (36.15961, -86.77594)  "
      ]
     },
     "execution_count": 7,
     "metadata": {},
     "output_type": "execute_result"
    }
   ],
   "source": [
    "art = pd.read_csv('../data/art_in_nashville.csv')\n",
    "print(art.shape)\n",
    "art.head(3)"
   ]
  },
  {
   "cell_type": "code",
   "execution_count": 8,
   "id": "e108709e",
   "metadata": {},
   "outputs": [
    {
     "name": "stdout",
     "output_type": "stream",
     "text": [
      "<class 'pandas.core.frame.DataFrame'>\n",
      "RangeIndex: 164 entries, 0 to 163\n",
      "Data columns (total 10 columns):\n",
      " #   Column             Non-Null Count  Dtype  \n",
      "---  ------             --------------  -----  \n",
      " 0   Title              164 non-null    object \n",
      " 1   Artist Last Name   164 non-null    object \n",
      " 2   Artist First Name  159 non-null    object \n",
      " 3   Location           164 non-null    object \n",
      " 4   Medium             162 non-null    object \n",
      " 5   Type               164 non-null    object \n",
      " 6   Description        107 non-null    object \n",
      " 7   Latitude           162 non-null    float64\n",
      " 8   Longitude          162 non-null    float64\n",
      " 9   Mapped Location    162 non-null    object \n",
      "dtypes: float64(2), object(8)\n",
      "memory usage: 12.9+ KB\n"
     ]
    }
   ],
   "source": [
    "art.info()"
   ]
  },
  {
   "cell_type": "markdown",
   "id": "896ca95a",
   "metadata": {},
   "source": [
    "Create a GeoDataFrame of art."
   ]
  },
  {
   "cell_type": "code",
   "execution_count": 14,
   "id": "0469a05b",
   "metadata": {},
   "outputs": [
    {
     "data": {
      "text/html": [
       "<div>\n",
       "<style scoped>\n",
       "    .dataframe tbody tr th:only-of-type {\n",
       "        vertical-align: middle;\n",
       "    }\n",
       "\n",
       "    .dataframe tbody tr th {\n",
       "        vertical-align: top;\n",
       "    }\n",
       "\n",
       "    .dataframe thead th {\n",
       "        text-align: right;\n",
       "    }\n",
       "</style>\n",
       "<table border=\"1\" class=\"dataframe\">\n",
       "  <thead>\n",
       "    <tr style=\"text-align: right;\">\n",
       "      <th></th>\n",
       "      <th>Title</th>\n",
       "      <th>Artist Last Name</th>\n",
       "      <th>Artist First Name</th>\n",
       "      <th>Location</th>\n",
       "      <th>Medium</th>\n",
       "      <th>Type</th>\n",
       "      <th>Description</th>\n",
       "      <th>Latitude</th>\n",
       "      <th>Longitude</th>\n",
       "      <th>Mapped Location</th>\n",
       "      <th>geometry</th>\n",
       "    </tr>\n",
       "  </thead>\n",
       "  <tbody>\n",
       "    <tr>\n",
       "      <th>0</th>\n",
       "      <td>Les Paul Guitar Mural</td>\n",
       "      <td>Hughes</td>\n",
       "      <td>Milree</td>\n",
       "      <td>100 Broadway, Nashville TN</td>\n",
       "      <td>Painting</td>\n",
       "      <td>Mural</td>\n",
       "      <td>NaN</td>\n",
       "      <td>36.16240</td>\n",
       "      <td>-86.77491</td>\n",
       "      <td>(36.1624, -86.77491)</td>\n",
       "      <td>POINT (-86.77491000000001 36.1624)</td>\n",
       "    </tr>\n",
       "    <tr>\n",
       "      <th>1</th>\n",
       "      <td>Sam Davis</td>\n",
       "      <td>LeQuire</td>\n",
       "      <td>Alan</td>\n",
       "      <td>4001 Harding Road, Nashville TN</td>\n",
       "      <td>Bronze</td>\n",
       "      <td>Sculpture</td>\n",
       "      <td>NaN</td>\n",
       "      <td>36.12856</td>\n",
       "      <td>-86.83660</td>\n",
       "      <td>(36.12856, -86.8366)</td>\n",
       "      <td>POINT (-86.8366 36.12856)</td>\n",
       "    </tr>\n",
       "    <tr>\n",
       "      <th>2</th>\n",
       "      <td>The Flutist</td>\n",
       "      <td>Varo</td>\n",
       "      <td>Marton</td>\n",
       "      <td>1 Symphony Place, Nashville TN</td>\n",
       "      <td>Marble</td>\n",
       "      <td>Sculpture</td>\n",
       "      <td>Statue commemorating Kenneth D Schermerhorn, M...</td>\n",
       "      <td>36.15961</td>\n",
       "      <td>-86.77594</td>\n",
       "      <td>(36.15961, -86.77594)</td>\n",
       "      <td>POINT (-86.77594000000001 36.15961)</td>\n",
       "    </tr>\n",
       "  </tbody>\n",
       "</table>\n",
       "</div>"
      ],
      "text/plain": [
       "                   Title Artist Last Name Artist First Name  \\\n",
       "0  Les Paul Guitar Mural           Hughes            Milree   \n",
       "1              Sam Davis          LeQuire              Alan   \n",
       "2            The Flutist             Varo            Marton   \n",
       "\n",
       "                          Location    Medium       Type  \\\n",
       "0       100 Broadway, Nashville TN  Painting      Mural   \n",
       "1  4001 Harding Road, Nashville TN    Bronze  Sculpture   \n",
       "2   1 Symphony Place, Nashville TN    Marble  Sculpture   \n",
       "\n",
       "                                         Description  Latitude  Longitude  \\\n",
       "0                                                NaN  36.16240  -86.77491   \n",
       "1                                                NaN  36.12856  -86.83660   \n",
       "2  Statue commemorating Kenneth D Schermerhorn, M...  36.15961  -86.77594   \n",
       "\n",
       "         Mapped Location                             geometry  \n",
       "0   (36.1624, -86.77491)   POINT (-86.77491000000001 36.1624)  \n",
       "1   (36.12856, -86.8366)            POINT (-86.8366 36.12856)  \n",
       "2  (36.15961, -86.77594)  POINT (-86.77594000000001 36.15961)  "
      ]
     },
     "execution_count": 14,
     "metadata": {},
     "output_type": "execute_result"
    }
   ],
   "source": [
    "art['geometry'] = art.apply(lambda x: Point((x.Longitude, \n",
    "                                            x.Latitude)), \n",
    "                                        axis=1)\n",
    "art.head(3)"
   ]
  },
  {
   "cell_type": "markdown",
   "id": "5fa76838",
   "metadata": {},
   "source": [
    "Get the CRS for art to match the CRS in zipcodes."
   ]
  },
  {
   "cell_type": "code",
   "execution_count": 17,
   "id": "8c884d4d",
   "metadata": {},
   "outputs": [
    {
     "data": {
      "text/plain": [
       "<Geographic 2D CRS: EPSG:4326>\n",
       "Name: WGS 84\n",
       "Axis Info [ellipsoidal]:\n",
       "- Lat[north]: Geodetic latitude (degree)\n",
       "- Lon[east]: Geodetic longitude (degree)\n",
       "Area of Use:\n",
       "- name: World\n",
       "- bounds: (-180.0, -90.0, 180.0, 90.0)\n",
       "Datum: World Geodetic System 1984\n",
       "- Ellipsoid: WGS 84\n",
       "- Prime Meridian: Greenwich"
      ]
     },
     "execution_count": 17,
     "metadata": {},
     "output_type": "execute_result"
    }
   ],
   "source": [
    "zipcodes.crs"
   ]
  },
  {
   "cell_type": "code",
   "execution_count": 19,
   "id": "1a63a920",
   "metadata": {},
   "outputs": [],
   "source": [
    "art_geo = gpd.GeoDataFrame(art, \n",
    "                           crs = zipcodes.crs, \n",
    "                           geometry = art['geometry'])"
   ]
  },
  {
   "cell_type": "code",
   "execution_count": 20,
   "id": "b7bcb583",
   "metadata": {},
   "outputs": [
    {
     "data": {
      "text/plain": [
       "geopandas.geodataframe.GeoDataFrame"
      ]
     },
     "execution_count": 20,
     "metadata": {},
     "output_type": "execute_result"
    }
   ],
   "source": [
    "type(art_geo)"
   ]
  },
  {
   "cell_type": "markdown",
   "id": "4f510d37",
   "metadata": {},
   "source": [
    "Clean zipcodes and do a spacial join with art."
   ]
  },
  {
   "cell_type": "code",
   "execution_count": 21,
   "id": "46655eab",
   "metadata": {},
   "outputs": [],
   "source": [
    "zipcodes = zipcodes[['zip', 'po_name', 'geometry']]"
   ]
  },
  {
   "cell_type": "code",
   "execution_count": 22,
   "id": "b76b0a91",
   "metadata": {},
   "outputs": [],
   "source": [
    "art_by_zip = gpd.sjoin(art_geo, zipcodes, op = 'within')"
   ]
  },
  {
   "cell_type": "code",
   "execution_count": 23,
   "id": "1b96aa73",
   "metadata": {},
   "outputs": [
    {
     "data": {
      "text/html": [
       "<div>\n",
       "<style scoped>\n",
       "    .dataframe tbody tr th:only-of-type {\n",
       "        vertical-align: middle;\n",
       "    }\n",
       "\n",
       "    .dataframe tbody tr th {\n",
       "        vertical-align: top;\n",
       "    }\n",
       "\n",
       "    .dataframe thead th {\n",
       "        text-align: right;\n",
       "    }\n",
       "</style>\n",
       "<table border=\"1\" class=\"dataframe\">\n",
       "  <thead>\n",
       "    <tr style=\"text-align: right;\">\n",
       "      <th></th>\n",
       "      <th>Title</th>\n",
       "      <th>Artist Last Name</th>\n",
       "      <th>Artist First Name</th>\n",
       "      <th>Location</th>\n",
       "      <th>Medium</th>\n",
       "      <th>Type</th>\n",
       "      <th>Description</th>\n",
       "      <th>Latitude</th>\n",
       "      <th>Longitude</th>\n",
       "      <th>Mapped Location</th>\n",
       "      <th>geometry</th>\n",
       "      <th>index_right</th>\n",
       "      <th>zip</th>\n",
       "      <th>po_name</th>\n",
       "    </tr>\n",
       "  </thead>\n",
       "  <tbody>\n",
       "    <tr>\n",
       "      <th>0</th>\n",
       "      <td>Les Paul Guitar Mural</td>\n",
       "      <td>Hughes</td>\n",
       "      <td>Milree</td>\n",
       "      <td>100 Broadway, Nashville TN</td>\n",
       "      <td>Painting</td>\n",
       "      <td>Mural</td>\n",
       "      <td>NaN</td>\n",
       "      <td>36.16240</td>\n",
       "      <td>-86.77491</td>\n",
       "      <td>(36.1624, -86.77491)</td>\n",
       "      <td>POINT (-86.77491 36.16240)</td>\n",
       "      <td>36</td>\n",
       "      <td>37201</td>\n",
       "      <td>NASHVILLE</td>\n",
       "    </tr>\n",
       "    <tr>\n",
       "      <th>2</th>\n",
       "      <td>The Flutist</td>\n",
       "      <td>Varo</td>\n",
       "      <td>Marton</td>\n",
       "      <td>1 Symphony Place, Nashville TN</td>\n",
       "      <td>Marble</td>\n",
       "      <td>Sculpture</td>\n",
       "      <td>Statue commemorating Kenneth D Schermerhorn, M...</td>\n",
       "      <td>36.15961</td>\n",
       "      <td>-86.77594</td>\n",
       "      <td>(36.15961, -86.77594)</td>\n",
       "      <td>POINT (-86.77594 36.15961)</td>\n",
       "      <td>36</td>\n",
       "      <td>37201</td>\n",
       "      <td>NASHVILLE</td>\n",
       "    </tr>\n",
       "    <tr>\n",
       "      <th>11</th>\n",
       "      <td>Orpheus and Eurydice</td>\n",
       "      <td>Kaskey</td>\n",
       "      <td>Ray</td>\n",
       "      <td>1 Symphony Place, Nashville TN</td>\n",
       "      <td>Limestone</td>\n",
       "      <td>Sculpture</td>\n",
       "      <td>Relief sculpture above main entrance of Scherm...</td>\n",
       "      <td>36.16017</td>\n",
       "      <td>-86.77575</td>\n",
       "      <td>(36.16017, -86.77575)</td>\n",
       "      <td>POINT (-86.77575 36.16017)</td>\n",
       "      <td>36</td>\n",
       "      <td>37201</td>\n",
       "      <td>NASHVILLE</td>\n",
       "    </tr>\n",
       "    <tr>\n",
       "      <th>21</th>\n",
       "      <td>The Birth of Apollo</td>\n",
       "      <td>Eskridge</td>\n",
       "      <td>Casey</td>\n",
       "      <td>1 Symphony Place, Nashville TN</td>\n",
       "      <td>Bronze sculpture as centerpiece of fountain</td>\n",
       "      <td>Sculpture</td>\n",
       "      <td>Two figures topping a fountain, one with a lyr...</td>\n",
       "      <td>36.15993</td>\n",
       "      <td>-86.77611</td>\n",
       "      <td>(36.15993, -86.77611)</td>\n",
       "      <td>POINT (-86.77611 36.15993)</td>\n",
       "      <td>36</td>\n",
       "      <td>37201</td>\n",
       "      <td>NASHVILLE</td>\n",
       "    </tr>\n",
       "    <tr>\n",
       "      <th>24</th>\n",
       "      <td>The Recording Angel</td>\n",
       "      <td>Flack</td>\n",
       "      <td>Audrey</td>\n",
       "      <td>1 Symphony Place, Nashville TN</td>\n",
       "      <td>Bronze</td>\n",
       "      <td>Sculpture</td>\n",
       "      <td>Bronze angel holding a fountain pen and tablet</td>\n",
       "      <td>36.15920</td>\n",
       "      <td>-86.77571</td>\n",
       "      <td>(36.1592, -86.77571)</td>\n",
       "      <td>POINT (-86.77571 36.15920)</td>\n",
       "      <td>36</td>\n",
       "      <td>37201</td>\n",
       "      <td>NASHVILLE</td>\n",
       "    </tr>\n",
       "  </tbody>\n",
       "</table>\n",
       "</div>"
      ],
      "text/plain": [
       "                    Title Artist Last Name Artist First Name  \\\n",
       "0   Les Paul Guitar Mural           Hughes            Milree   \n",
       "2             The Flutist             Varo            Marton   \n",
       "11   Orpheus and Eurydice           Kaskey               Ray   \n",
       "21    The Birth of Apollo         Eskridge             Casey   \n",
       "24    The Recording Angel            Flack            Audrey   \n",
       "\n",
       "                          Location  \\\n",
       "0       100 Broadway, Nashville TN   \n",
       "2   1 Symphony Place, Nashville TN   \n",
       "11  1 Symphony Place, Nashville TN   \n",
       "21  1 Symphony Place, Nashville TN   \n",
       "24  1 Symphony Place, Nashville TN   \n",
       "\n",
       "                                         Medium       Type  \\\n",
       "0                                      Painting      Mural   \n",
       "2                                        Marble  Sculpture   \n",
       "11                                    Limestone  Sculpture   \n",
       "21  Bronze sculpture as centerpiece of fountain  Sculpture   \n",
       "24                                       Bronze  Sculpture   \n",
       "\n",
       "                                          Description  Latitude  Longitude  \\\n",
       "0                                                 NaN  36.16240  -86.77491   \n",
       "2   Statue commemorating Kenneth D Schermerhorn, M...  36.15961  -86.77594   \n",
       "11  Relief sculpture above main entrance of Scherm...  36.16017  -86.77575   \n",
       "21  Two figures topping a fountain, one with a lyr...  36.15993  -86.77611   \n",
       "24     Bronze angel holding a fountain pen and tablet  36.15920  -86.77571   \n",
       "\n",
       "          Mapped Location                    geometry  index_right    zip  \\\n",
       "0    (36.1624, -86.77491)  POINT (-86.77491 36.16240)           36  37201   \n",
       "2   (36.15961, -86.77594)  POINT (-86.77594 36.15961)           36  37201   \n",
       "11  (36.16017, -86.77575)  POINT (-86.77575 36.16017)           36  37201   \n",
       "21  (36.15993, -86.77611)  POINT (-86.77611 36.15993)           36  37201   \n",
       "24   (36.1592, -86.77571)  POINT (-86.77571 36.15920)           36  37201   \n",
       "\n",
       "      po_name  \n",
       "0   NASHVILLE  \n",
       "2   NASHVILLE  \n",
       "11  NASHVILLE  \n",
       "21  NASHVILLE  \n",
       "24  NASHVILLE  "
      ]
     },
     "execution_count": 23,
     "metadata": {},
     "output_type": "execute_result"
    }
   ],
   "source": [
    "art_by_zip.head()"
   ]
  },
  {
   "cell_type": "markdown",
   "id": "c2e25c12",
   "metadata": {},
   "source": [
    "Count art in each zipcode."
   ]
  },
  {
   "cell_type": "code",
   "execution_count": 24,
   "id": "60047f85",
   "metadata": {},
   "outputs": [
    {
     "data": {
      "text/plain": [
       "37219    33\n",
       "37203    25\n",
       "37201    21\n",
       "37210    11\n",
       "37212    10\n",
       "37205    10\n",
       "37206     9\n",
       "37208     7\n",
       "37214     6\n",
       "37221     6\n",
       "37209     4\n",
       "37204     4\n",
       "37115     3\n",
       "37240     2\n",
       "37213     2\n",
       "37215     2\n",
       "37207     2\n",
       "37211     2\n",
       "37216     2\n",
       "37076     1\n",
       "Name: zip, dtype: int64"
      ]
     },
     "execution_count": 24,
     "metadata": {},
     "output_type": "execute_result"
    }
   ],
   "source": [
    "art_by_zip['zip'].value_counts()"
   ]
  },
  {
   "cell_type": "markdown",
   "id": "51314709",
   "metadata": {},
   "source": [
    "Take a look at art in 37219"
   ]
  },
  {
   "cell_type": "code",
   "execution_count": 26,
   "id": "3f742070",
   "metadata": {},
   "outputs": [
    {
     "data": {
      "text/plain": [
       "(33, 14)"
      ]
     },
     "execution_count": 26,
     "metadata": {},
     "output_type": "execute_result"
    }
   ],
   "source": [
    "art_downtown = art_by_zip.loc[art_by_zip['zip'] == '37219']\n",
    "art_downtown.shape"
   ]
  },
  {
   "cell_type": "code",
   "execution_count": 27,
   "id": "07ca1dfe",
   "metadata": {},
   "outputs": [
    {
     "data": {
      "text/plain": [
       "(1, 3)"
      ]
     },
     "execution_count": 27,
     "metadata": {},
     "output_type": "execute_result"
    }
   ],
   "source": [
    "polygon37219 = zipcodes.loc[zipcodes['zip'] == '37219']\n",
    "polygon37219.shape"
   ]
  },
  {
   "cell_type": "markdown",
   "id": "b521b3bf",
   "metadata": {},
   "source": [
    "Plot them together"
   ]
  },
  {
   "cell_type": "code",
   "execution_count": 29,
   "id": "e9e47c3f",
   "metadata": {},
   "outputs": [
    {
     "data": {
      "image/png": "[encoded data removed]",
      "text/plain": [
       "<Figure size 576x720 with 1 Axes>"
      ]
     },
     "metadata": {
      "needs_background": "light"
     },
     "output_type": "display_data"
    }
   ],
   "source": [
    "ax = polygon37219.plot(figsize = (8, 10), color = 'lightgreen')\n",
    "art_downtown.plot( ax = ax, column = 'Type');\n",
    "plt.show();"
   ]
  },
  {
   "cell_type": "markdown",
   "id": "4521cf1c",
   "metadata": {},
   "source": [
    "Add map"
   ]
  },
  {
   "cell_type": "code",
   "execution_count": 30,
   "id": "ac2e7674",
   "metadata": {},
   "outputs": [
    {
     "name": "stderr",
     "output_type": "stream",
     "text": [
      "C:\\Users\\16159\\AppData\\Local\\Temp/ipykernel_42932/226734311.py:1: UserWarning: Geometry is in a geographic CRS. Results from 'centroid' are likely incorrect. Use 'GeoSeries.to_crs()' to re-project geometries to a projected CRS before this operation.\n",
      "\n",
      "  polygon37219.geometry.centroid\n"
     ]
    },
    {
     "data": {
      "text/plain": [
       "24    POINT (-86.78317 36.16682)\n",
       "dtype: geometry"
      ]
     },
     "execution_count": 30,
     "metadata": {},
     "output_type": "execute_result"
    }
   ],
   "source": [
    "polygon37219.geometry.centroid"
   ]
  },
  {
   "cell_type": "markdown",
   "id": "9871c1e1",
   "metadata": {},
   "source": [
    "Find the center"
   ]
  },
  {
   "cell_type": "code",
   "execution_count": 32,
   "id": "a92e188c",
   "metadata": {},
   "outputs": [
    {
     "name": "stdout",
     "output_type": "stream",
     "text": [
      "POINT (-86.78317337070099 36.16681838008157)\n"
     ]
    },
    {
     "name": "stderr",
     "output_type": "stream",
     "text": [
      "C:\\Users\\16159\\AppData\\Local\\Temp/ipykernel_42932/1179354559.py:1: UserWarning: Geometry is in a geographic CRS. Results from 'centroid' are likely incorrect. Use 'GeoSeries.to_crs()' to re-project geometries to a projected CRS before this operation.\n",
      "\n",
      "  center = polygon37219.geometry.centroid[24]\n"
     ]
    }
   ],
   "source": [
    "center = polygon37219.geometry.centroid[24]\n",
    "print(center)"
   ]
  },
  {
   "cell_type": "markdown",
   "id": "329c0a76",
   "metadata": {},
   "source": [
    "Construct array for folium location"
   ]
  },
  {
   "cell_type": "code",
   "execution_count": 33,
   "id": "a9b22412",
   "metadata": {},
   "outputs": [
    {
     "name": "stdout",
     "output_type": "stream",
     "text": [
      "[36.16681838008157, -86.783173370701]\n"
     ]
    }
   ],
   "source": [
    "# reverse the order when constructing the array for folium location\n",
    "area_center = [center.y, center.x]\n",
    "\n",
    "# check the order of area_center, the location for our folium map\n",
    "print(area_center)"
   ]
  },
  {
   "cell_type": "markdown",
   "id": "b190620a",
   "metadata": {},
   "source": [
    "Create folium map of downtown"
   ]
  },
  {
   "cell_type": "code",
   "execution_count": 43,
   "id": "27c4ef2d",
   "metadata": {},
   "outputs": [
    {
     "data": {
      "text/html": [
       "<div style=\"width:100%;\"><div style=\"position:relative;width:100%;height:0;padding-bottom:60%;\"><span style=\"color:#565656\">Make this Notebook Trusted to load map: File -> Trust Notebook</span><iframe src=\"about:blank\" style=\"position:absolute;width:100%;height:100%;left:0;top:0;border:none !important;\" data-html=%3C%21DOCTYPE%20html%3E%0A%3Chead%3E%20%20%20%20%0A%20%20%20%20%3Cmeta%20http-equiv%3D%22content-type%22%20content%3D%22text/html%3B%20charset%3DUTF-8%22%20/%3E%0A%20%20%20%20%0A%20%20%20%20%20%20%20%20%3Cscript%3E%0A%20%20%20%20%20%20%20%20%20%20%20%20L_NO_TOUCH%20%3D%20false%3B%0A%20%20%20%20%20%20%20%20%20%20%20%20L_DISABLE_3D%20%3D%20false%3B%0A%20%20%20%20%20%20%20%20%3C/script%3E%0A%20%20%20%20%0A%20%20%20%20%3Cscript%20src%3D%22https%3A//cdn.jsdelivr.net/npm/leaflet%401.6.0/dist/leaflet.js%22%3E%3C/script%3E%0A%20%20%20%20%3Cscript%20src%3D%22https%3A//code.jquery.com/jquery-1.12.4.min.js%22%3E%3C/script%3E%0A%20%20%20%20%3Cscript%20src%3D%22https%3A//maxcdn.bootstrapcdn.com/bootstrap/3.2.0/js/bootstrap.min.js%22%3E%3C/script%3E%0A%20%20%20%20%3Cscript%20src%3D%22https%3A//cdnjs.cloudflare.com/ajax/libs/Leaflet.awesome-markers/2.0.2/leaflet.awesome-markers.js%22%3E%3C/script%3E%0A%20%20%20%20%3Clink%20rel%3D%22stylesheet%22%20href%3D%22https%3A//cdn.jsdelivr.net/npm/leaflet%401.6.0/dist/leaflet.css%22/%3E%0A%20%20%20%20%3Clink%20rel%3D%22stylesheet%22%20href%3D%22https%3A//maxcdn.bootstrapcdn.com/bootstrap/3.2.0/css/bootstrap.min.css%22/%3E%0A%20%20%20%20%3Clink%20rel%3D%22stylesheet%22%20href%3D%22https%3A//maxcdn.bootstrapcdn.com/bootstrap/3.2.0/css/bootstrap-theme.min.css%22/%3E%0A%20%20%20%20%3Clink%20rel%3D%22stylesheet%22%20href%3D%22https%3A//maxcdn.bootstrapcdn.com/font-awesome/4.6.3/css/font-awesome.min.css%22/%3E%0A%20%20%20%20%3Clink%20rel%3D%22stylesheet%22%20href%3D%22https%3A//cdnjs.cloudflare.com/ajax/libs/Leaflet.awesome-markers/2.0.2/leaflet.awesome-markers.css%22/%3E%0A%20%20%20%20%3Clink%20rel%3D%22stylesheet%22%20href%3D%22https%3A//rawcdn.githack.com/python-visualization/folium/master/folium/templates/leaflet.awesome.rotate.css%22/%3E%0A%20%20%20%20%3Cstyle%3Ehtml%2C%20body%20%7Bwidth%3A%20100%25%3Bheight%3A%20100%25%3Bmargin%3A%200%3Bpadding%3A%200%3B%7D%3C/style%3E%0A%20%20%20%20%3Cstyle%3E%23map%20%7Bposition%3Aabsolute%3Btop%3A0%3Bbottom%3A0%3Bright%3A0%3Bleft%3A0%3B%7D%3C/style%3E%0A%20%20%20%20%0A%20%20%20%20%20%20%20%20%20%20%20%20%3Cmeta%20name%3D%22viewport%22%20content%3D%22width%3Ddevice-width%2C%0A%20%20%20%20%20%20%20%20%20%20%20%20%20%20%20%20initial-scale%3D1.0%2C%20maximum-scale%3D1.0%2C%20user-scalable%3Dno%22%20/%3E%0A%20%20%20%20%20%20%20%20%20%20%20%20%3Cstyle%3E%0A%20%20%20%20%20%20%20%20%20%20%20%20%20%20%20%20%23map_208c7756de04487c9442f7de0ed231d9%20%7B%0A%20%20%20%20%20%20%20%20%20%20%20%20%20%20%20%20%20%20%20%20position%3A%20relative%3B%0A%20%20%20%20%20%20%20%20%20%20%20%20%20%20%20%20%20%20%20%20width%3A%20100.0%25%3B%0A%20%20%20%20%20%20%20%20%20%20%20%20%20%20%20%20%20%20%20%20height%3A%20100.0%25%3B%0A%20%20%20%20%20%20%20%20%20%20%20%20%20%20%20%20%20%20%20%20left%3A%200.0%25%3B%0A%20%20%20%20%20%20%20%20%20%20%20%20%20%20%20%20%20%20%20%20top%3A%200.0%25%3B%0A%20%20%20%20%20%20%20%20%20%20%20%20%20%20%20%20%7D%0A%20%20%20%20%20%20%20%20%20%20%20%20%3C/style%3E%0A%20%20%20%20%20%20%20%20%0A%3C/head%3E%0A%3Cbody%3E%20%20%20%20%0A%20%20%20%20%0A%20%20%20%20%20%20%20%20%20%20%20%20%3Cdiv%20class%3D%22folium-map%22%20id%3D%22map_208c7756de04487c9442f7de0ed231d9%22%20%3E%3C/div%3E%0A%20%20%20%20%20%20%20%20%0A%3C/body%3E%0A%3Cscript%3E%20%20%20%20%0A%20%20%20%20%0A%20%20%20%20%20%20%20%20%20%20%20%20var%20map_208c7756de04487c9442f7de0ed231d9%20%3D%20L.map%28%0A%20%20%20%20%20%20%20%20%20%20%20%20%20%20%20%20%22map_208c7756de04487c9442f7de0ed231d9%22%2C%0A%20%20%20%20%20%20%20%20%20%20%20%20%20%20%20%20%7B%0A%20%20%20%20%20%20%20%20%20%20%20%20%20%20%20%20%20%20%20%20center%3A%20%5B36.16681838008157%2C%20-86.783173370701%5D%2C%0A%20%20%20%20%20%20%20%20%20%20%20%20%20%20%20%20%20%20%20%20crs%3A%20L.CRS.EPSG3857%2C%0A%20%20%20%20%20%20%20%20%20%20%20%20%20%20%20%20%20%20%20%20zoom%3A%2015%2C%0A%20%20%20%20%20%20%20%20%20%20%20%20%20%20%20%20%20%20%20%20zoomControl%3A%20true%2C%0A%20%20%20%20%20%20%20%20%20%20%20%20%20%20%20%20%20%20%20%20preferCanvas%3A%20false%2C%0A%20%20%20%20%20%20%20%20%20%20%20%20%20%20%20%20%7D%0A%20%20%20%20%20%20%20%20%20%20%20%20%29%3B%0A%0A%20%20%20%20%20%20%20%20%20%20%20%20%0A%0A%20%20%20%20%20%20%20%20%0A%20%20%20%20%0A%20%20%20%20%20%20%20%20%20%20%20%20var%20tile_layer_9b5daad9da424f0cb7f84be9a20fd626%20%3D%20L.tileLayer%28%0A%20%20%20%20%20%20%20%20%20%20%20%20%20%20%20%20%22https%3A//%7Bs%7D.tile.openstreetmap.org/%7Bz%7D/%7Bx%7D/%7By%7D.png%22%2C%0A%20%20%20%20%20%20%20%20%20%20%20%20%20%20%20%20%7B%22attribution%22%3A%20%22Data%20by%20%5Cu0026copy%3B%20%5Cu003ca%20href%3D%5C%22http%3A//openstreetmap.org%5C%22%5Cu003eOpenStreetMap%5Cu003c/a%5Cu003e%2C%20under%20%5Cu003ca%20href%3D%5C%22http%3A//www.openstreetmap.org/copyright%5C%22%5Cu003eODbL%5Cu003c/a%5Cu003e.%22%2C%20%22detectRetina%22%3A%20false%2C%20%22maxNativeZoom%22%3A%2018%2C%20%22maxZoom%22%3A%2018%2C%20%22minZoom%22%3A%200%2C%20%22noWrap%22%3A%20false%2C%20%22opacity%22%3A%201%2C%20%22subdomains%22%3A%20%22abc%22%2C%20%22tms%22%3A%20false%7D%0A%20%20%20%20%20%20%20%20%20%20%20%20%29.addTo%28map_208c7756de04487c9442f7de0ed231d9%29%3B%0A%20%20%20%20%20%20%20%20%0A%3C/script%3E onload=\"this.contentDocument.open();this.contentDocument.write(    decodeURIComponent(this.getAttribute('data-html')));this.contentDocument.close();\" allowfullscreen webkitallowfullscreen mozallowfullscreen></iframe></div></div>"
      ],
      "text/plain": [
       "<folium.folium.Map at 0x1ce76f74730>"
      ]
     },
     "execution_count": 43,
     "metadata": {},
     "output_type": "execute_result"
    }
   ],
   "source": [
    "map_37219 = folium.Map(location = area_center, zoom_start = 15)\n",
    "map_37219"
   ]
  },
  {
   "cell_type": "markdown",
   "id": "ce2f99af",
   "metadata": {},
   "source": [
    "Add the polygon and the art markers."
   ]
  },
  {
   "cell_type": "code",
   "execution_count": 45,
   "id": "57d27638",
   "metadata": {},
   "outputs": [
    {
     "name": "stdout",
     "output_type": "stream",
     "text": [
      "index is 4\n",
      "values are:\n",
      " \n",
      "Title                                                     Anticipation\n",
      "Artist Last Name                                                 Faxon\n",
      "Artist First Name                                              Russell\n",
      "Location                            505 Deaderick Street, Nashville TN\n",
      "Medium                                                Cold cast bronze\n",
      "Type                                                         Sculpture\n",
      "Description          A statue of a woman with legs crossed sitting ...\n",
      "Latitude                                                      36.16489\n",
      "Longitude                                                    -86.78184\n",
      "Mapped Location                                  (36.16489, -86.78184)\n",
      "geometry                                    POINT (-86.78184 36.16489)\n",
      "index_right                                                         24\n",
      "zip                                                              37219\n",
      "po_name                                                      NASHVILLE\n",
      "Name: 4, dtype: object\n",
      "------------------------- \n",
      "index is 5\n",
      "values are:\n",
      " \n",
      "Title                            Piecing It All Together\n",
      "Artist Last Name                                  Cooper\n",
      "Artist First Name                                Michael\n",
      "Location                 600 Church Street, Nashville TN\n",
      "Medium                                 Painting on Stone\n",
      "Type                                               Mural\n",
      "Description                                          NaN\n",
      "Latitude                                        36.16281\n",
      "Longitude                                      -86.78186\n",
      "Mapped Location                    (36.16281, -86.78186)\n",
      "geometry             POINT (-86.78185999999999 36.16281)\n",
      "index_right                                           24\n",
      "zip                                                37219\n",
      "po_name                                        NASHVILLE\n",
      "Name: 5, dtype: object\n",
      "------------------------- \n",
      "index is 7\n",
      "values are:\n",
      " \n",
      "Title                                                      Chet Atkins\n",
      "Artist Last Name                                                 Faxon\n",
      "Artist First Name                                              Russell\n",
      "Location             Corner of Fifth Avenue North and Union Street,...\n",
      "Medium                     Bronze stool and guitar on a granite plynth\n",
      "Type                                                         Sculpture\n",
      "Description          A sculpture of a young Chet Atkins seated on a...\n",
      "Latitude                                                      36.16466\n",
      "Longitude                                                    -86.78102\n",
      "Mapped Location                                  (36.16466, -86.78102)\n",
      "geometry                                    POINT (-86.78102 36.16466)\n",
      "index_right                                                         24\n",
      "zip                                                              37219\n",
      "po_name                                                      NASHVILLE\n",
      "Name: 7, dtype: object\n",
      "------------------------- \n"
     ]
    }
   ],
   "source": [
    "i = 0\n",
    "for row_index, row_values in art_downtown.iterrows():\n",
    "    if i <3: \n",
    "        print('index is', row_index)\n",
    "        print('values are:')\n",
    "        print(' ')\n",
    "        print(row_values)\n",
    "        print('------------------------- ')\n",
    "        i+=1"
   ]
  },
  {
   "cell_type": "markdown",
   "id": "2c216230",
   "metadata": {},
   "source": [
    "Create map_37207 again with additional features:\n",
    "add the zipcode area outline (polygon_37207)\n",
    "iterate through the stops_in_37207 to create location from each lat and lng\n",
    "create a popup from the stop column\n",
    "create a custom icon if you want with font-awesome\n",
    "build a marker from each location and popup and your custom icon\n",
    "add the marker to map_37207\n",
    "display map_37207"
   ]
  },
  {
   "cell_type": "code",
   "execution_count": 61,
   "id": "dc5f0cd3",
   "metadata": {},
   "outputs": [
    {
     "data": {
      "text/html": [
       "<div style=\"width:100%;\"><div style=\"position:relative;width:100%;height:0;padding-bottom:60%;\"><span style=\"color:#565656\">Make this Notebook Trusted to load map: File -> Trust Notebook</span><iframe src=\"about:blank\" style=\"position:absolute;width:100%;height:100%;left:0;top:0;border:none !important;\" data-html=%3C%21DOCTYPE%20html%3E%0A%3Chead%3E%20%20%20%20%0A%20%20%20%20%3Cmeta%20http-equiv%3D%22content-type%22%20content%3D%22text/html%3B%20charset%3DUTF-8%22%20/%3E%0A%20%20%20%20%0A%20%20%20%20%20%20%20%20%3Cscript%3E%0A%20%20%20%20%20%20%20%20%20%20%20%20L_NO_TOUCH%20%3D%20false%3B%0A%20%20%20%20%20%20%20%20%20%20%20%20L_DISABLE_3D%20%3D%20false%3B%0A%20%20%20%20%20%20%20%20%3C/script%3E%0A%20%20%20%20%0A%20%20%20%20%3Cscript%20src%3D%22https%3A//cdn.jsdelivr.net/npm/leaflet%401.6.0/dist/leaflet.js%22%3E%3C/script%3E%0A%20%20%20%20%3Cscript%20src%3D%22https%3A//code.jquery.com/jquery-1.12.4.min.js%22%3E%3C/script%3E%0A%20%20%20%20%3Cscript%20src%3D%22https%3A//maxcdn.bootstrapcdn.com/bootstrap/3.2.0/js/bootstrap.min.js%22%3E%3C/script%3E%0A%20%20%20%20%3Cscript%20src%3D%22https%3A//cdnjs.cloudflare.com/ajax/libs/Leaflet.awesome-markers/2.0.2/leaflet.awesome-markers.js%22%3E%3C/script%3E%0A%20%20%20%20%3Clink%20rel%3D%22stylesheet%22%20href%3D%22https%3A//cdn.jsdelivr.net/npm/leaflet%401.6.0/dist/leaflet.css%22/%3E%0A%20%20%20%20%3Clink%20rel%3D%22stylesheet%22%20href%3D%22https%3A//maxcdn.bootstrapcdn.com/bootstrap/3.2.0/css/bootstrap.min.css%22/%3E%0A%20%20%20%20%3Clink%20rel%3D%22stylesheet%22%20href%3D%22https%3A//maxcdn.bootstrapcdn.com/bootstrap/3.2.0/css/bootstrap-theme.min.css%22/%3E%0A%20%20%20%20%3Clink%20rel%3D%22stylesheet%22%20href%3D%22https%3A//maxcdn.bootstrapcdn.com/font-awesome/4.6.3/css/font-awesome.min.css%22/%3E%0A%20%20%20%20%3Clink%20rel%3D%22stylesheet%22%20href%3D%22https%3A//cdnjs.cloudflare.com/ajax/libs/Leaflet.awesome-markers/2.0.2/leaflet.awesome-markers.css%22/%3E%0A%20%20%20%20%3Clink%20rel%3D%22stylesheet%22%20href%3D%22https%3A//rawcdn.githack.com/python-visualization/folium/master/folium/templates/leaflet.awesome.rotate.css%22/%3E%0A%20%20%20%20%3Cstyle%3Ehtml%2C%20body%20%7Bwidth%3A%20100%25%3Bheight%3A%20100%25%3Bmargin%3A%200%3Bpadding%3A%200%3B%7D%3C/style%3E%0A%20%20%20%20%3Cstyle%3E%23map%20%7Bposition%3Aabsolute%3Btop%3A0%3Bbottom%3A0%3Bright%3A0%3Bleft%3A0%3B%7D%3C/style%3E%0A%20%20%20%20%0A%20%20%20%20%20%20%20%20%20%20%20%20%3Cmeta%20name%3D%22viewport%22%20content%3D%22width%3Ddevice-width%2C%0A%20%20%20%20%20%20%20%20%20%20%20%20%20%20%20%20initial-scale%3D1.0%2C%20maximum-scale%3D1.0%2C%20user-scalable%3Dno%22%20/%3E%0A%20%20%20%20%20%20%20%20%20%20%20%20%3Cstyle%3E%0A%20%20%20%20%20%20%20%20%20%20%20%20%20%20%20%20%23map_e495d046581445cbadf44f0f628fcbbc%20%7B%0A%20%20%20%20%20%20%20%20%20%20%20%20%20%20%20%20%20%20%20%20position%3A%20relative%3B%0A%20%20%20%20%20%20%20%20%20%20%20%20%20%20%20%20%20%20%20%20width%3A%20100.0%25%3B%0A%20%20%20%20%20%20%20%20%20%20%20%20%20%20%20%20%20%20%20%20height%3A%20100.0%25%3B%0A%20%20%20%20%20%20%20%20%20%20%20%20%20%20%20%20%20%20%20%20left%3A%200.0%25%3B%0A%20%20%20%20%20%20%20%20%20%20%20%20%20%20%20%20%20%20%20%20top%3A%200.0%25%3B%0A%20%20%20%20%20%20%20%20%20%20%20%20%20%20%20%20%7D%0A%20%20%20%20%20%20%20%20%20%20%20%20%3C/style%3E%0A%20%20%20%20%20%20%20%20%0A%3C/head%3E%0A%3Cbody%3E%20%20%20%20%0A%20%20%20%20%0A%20%20%20%20%20%20%20%20%20%20%20%20%3Cdiv%20class%3D%22folium-map%22%20id%3D%22map_e495d046581445cbadf44f0f628fcbbc%22%20%3E%3C/div%3E%0A%20%20%20%20%20%20%20%20%0A%3C/body%3E%0A%3Cscript%3E%20%20%20%20%0A%20%20%20%20%0A%20%20%20%20%20%20%20%20%20%20%20%20var%20map_e495d046581445cbadf44f0f628fcbbc%20%3D%20L.map%28%0A%20%20%20%20%20%20%20%20%20%20%20%20%20%20%20%20%22map_e495d046581445cbadf44f0f628fcbbc%22%2C%0A%20%20%20%20%20%20%20%20%20%20%20%20%20%20%20%20%7B%0A%20%20%20%20%20%20%20%20%20%20%20%20%20%20%20%20%20%20%20%20center%3A%20%5B36.16681838008157%2C%20-86.783173370701%5D%2C%0A%20%20%20%20%20%20%20%20%20%20%20%20%20%20%20%20%20%20%20%20crs%3A%20L.CRS.EPSG3857%2C%0A%20%20%20%20%20%20%20%20%20%20%20%20%20%20%20%20%20%20%20%20zoom%3A%2015%2C%0A%20%20%20%20%20%20%20%20%20%20%20%20%20%20%20%20%20%20%20%20zoomControl%3A%20true%2C%0A%20%20%20%20%20%20%20%20%20%20%20%20%20%20%20%20%20%20%20%20preferCanvas%3A%20false%2C%0A%20%20%20%20%20%20%20%20%20%20%20%20%20%20%20%20%7D%0A%20%20%20%20%20%20%20%20%20%20%20%20%29%3B%0A%0A%20%20%20%20%20%20%20%20%20%20%20%20%0A%0A%20%20%20%20%20%20%20%20%0A%20%20%20%20%0A%20%20%20%20%20%20%20%20%20%20%20%20var%20tile_layer_b395ab161df84e3faf293d282e2e4a10%20%3D%20L.tileLayer%28%0A%20%20%20%20%20%20%20%20%20%20%20%20%20%20%20%20%22https%3A//%7Bs%7D.tile.openstreetmap.org/%7Bz%7D/%7Bx%7D/%7By%7D.png%22%2C%0A%20%20%20%20%20%20%20%20%20%20%20%20%20%20%20%20%7B%22attribution%22%3A%20%22Data%20by%20%5Cu0026copy%3B%20%5Cu003ca%20href%3D%5C%22http%3A//openstreetmap.org%5C%22%5Cu003eOpenStreetMap%5Cu003c/a%5Cu003e%2C%20under%20%5Cu003ca%20href%3D%5C%22http%3A//www.openstreetmap.org/copyright%5C%22%5Cu003eODbL%5Cu003c/a%5Cu003e.%22%2C%20%22detectRetina%22%3A%20false%2C%20%22maxNativeZoom%22%3A%2018%2C%20%22maxZoom%22%3A%2018%2C%20%22minZoom%22%3A%200%2C%20%22noWrap%22%3A%20false%2C%20%22opacity%22%3A%201%2C%20%22subdomains%22%3A%20%22abc%22%2C%20%22tms%22%3A%20false%7D%0A%20%20%20%20%20%20%20%20%20%20%20%20%29.addTo%28map_e495d046581445cbadf44f0f628fcbbc%29%3B%0A%20%20%20%20%20%20%20%20%0A%20%20%20%20%0A%20%20%20%20%20%20%20%20function%20geo_json_8b1904931bbd41f692aeb665e4723de4_onEachFeature%28feature%2C%20layer%29%20%7B%0A%20%20%20%20%20%20%20%20%20%20%20%20layer.on%28%7B%0A%20%20%20%20%20%20%20%20%20%20%20%20%20%20%20%20click%3A%20function%28e%29%20%7B%0A%20%20%20%20%20%20%20%20%20%20%20%20%20%20%20%20%20%20%20%20map_e495d046581445cbadf44f0f628fcbbc.fitBounds%28e.target.getBounds%28%29%29%3B%0A%20%20%20%20%20%20%20%20%20%20%20%20%20%20%20%20%7D%0A%20%20%20%20%20%20%20%20%20%20%20%20%7D%29%3B%0A%20%20%20%20%20%20%20%20%7D%3B%0A%20%20%20%20%20%20%20%20var%20geo_json_8b1904931bbd41f692aeb665e4723de4%20%3D%20L.geoJson%28null%2C%20%7B%0A%20%20%20%20%20%20%20%20%20%20%20%20%20%20%20%20onEachFeature%3A%20geo_json_8b1904931bbd41f692aeb665e4723de4_onEachFeature%2C%0A%20%20%20%20%20%20%20%20%20%20%20%20%0A%20%20%20%20%20%20%20%20%7D%29.addTo%28map_e495d046581445cbadf44f0f628fcbbc%29%3B%0A%0A%20%20%20%20%20%20%20%20function%20geo_json_8b1904931bbd41f692aeb665e4723de4_add%20%28data%29%20%7B%0A%20%20%20%20%20%20%20%20%20%20%20%20geo_json_8b1904931bbd41f692aeb665e4723de4.addData%28data%29%3B%0A%20%20%20%20%20%20%20%20%7D%0A%20%20%20%20%20%20%20%20%20%20%20%20geo_json_8b1904931bbd41f692aeb665e4723de4_add%28%7B%22bbox%22%3A%20%5B-86.788061782502%2C%2036.160806805858%2C%20-86.777412300774%2C%2036.174645543359%5D%2C%20%22features%22%3A%20%5B%7B%22bbox%22%3A%20%5B-86.788061782502%2C%2036.160806805858%2C%20-86.777412300774%2C%2036.174645543359%5D%2C%20%22geometry%22%3A%20%7B%22coordinates%22%3A%20%5B%5B%5B%5B-86.786094261218%2C%2036.174645543359%5D%2C%20%5B-86.785851293444%2C%2036.174303989094%5D%2C%20%5B-86.785759620278%2C%2036.174337073979%5D%2C%20%5B-86.785516698925%2C%2036.174436765466%5D%2C%20%5B-86.785474891604%2C%2036.174370794259%5D%2C%20%5B-86.785716938975%2C%2036.174271463944%5D%2C%20%5B-86.785586806791%2C%2036.174071424682%5D%2C%20%5B-86.785085027799%2C%2036.174297036477%5D%2C%20%5B-86.785050479057%2C%2036.174313926726%5D%2C%20%5B-86.785046923435%2C%2036.174308779067%5D%2C%20%5B-86.784771972894%2C%2036.173907047209%5D%2C%20%5B-86.784648993389%2C%2036.173705069533%5D%2C%20%5B-86.784410211021%2C%2036.173814888051%5D%2C%20%5B-86.784362775716%2C%2036.173742287381%5D%2C%20%5B-86.784058731609%2C%2036.173269601278%5D%2C%20%5B-86.783747017239%2C%2036.172785080813%5D%2C%20%5B-86.7834476277%2C%2036.172913684891%5D%2C%20%5B-86.783290934251%2C%2036.17267012282%5D%2C%20%5B-86.783311958919%2C%2036.172661091029%5D%2C%20%5B-86.783328625709%2C%2036.172653932058%5D%2C%20%5B-86.78334483633%2C%2036.172646969485%5D%2C%20%5B-86.783378268993%2C%2036.172632607965%5D%2C%20%5B-86.783414066149%2C%2036.172617231271%5D%2C%20%5B-86.783491757224%2C%2036.172583858892%5D%2C%20%5B-86.783498661328%2C%2036.172571925563%5D%2C%20%5B-86.783507796003%2C%2036.172556136436%5D%2C%20%5B-86.783515684943%2C%2036.172542503831%5D%2C%20%5B-86.783526919008%2C%2036.172522155819%5D%2C%20%5B-86.783542965208%2C%2036.172497760697%5D%2C%20%5B-86.783567846176%2C%2036.172458732155%5D%2C%20%5B-86.783575205852%2C%2036.172447187893%5D%2C%20%5B-86.783595620688%2C%2036.172418226588%5D%2C%20%5B-86.783610536228%2C%2036.172397065458%5D%2C%20%5B-86.783626337204%2C%2036.172374647516%5D%2C%20%5B-86.783640219752%2C%2036.172356743787%5D%2C%20%5B-86.783659712328%2C%2036.172331605739%5D%2C%20%5B-86.783702247738%2C%2036.172279095192%5D%2C%20%5B-86.783723332729%2C%2036.17225424611%5D%2C%20%5B-86.78373745218%2C%2036.1722376062%5D%2C%20%5B-86.783755093727%2C%2036.17221852199%5D%2C%20%5B-86.783778798765%2C%2036.172192879266%5D%2C%20%5B-86.783796986434%2C%2036.172173203746%5D%2C%20%5B-86.78382150842%2C%2036.172148805625%5D%2C%20%5B-86.783833590457%2C%2036.172136783709%5D%2C%20%5B-86.783849659507%2C%2036.17212079271%5D%2C%20%5B-86.783867561791%2C%2036.172103599407%5D%2C%20%5B-86.783884532315%2C%2036.172088047803%5D%2C%20%5B-86.783904059586%2C%2036.17207015145%5D%2C%20%5B-86.783925469277%2C%2036.172050530529%5D%2C%20%5B-86.783956224524%2C%2036.172024550103%5D%2C%20%5B-86.783980912706%2C%2036.172003694589%5D%2C%20%5B-86.78399420742%2C%2036.171992464291%5D%2C%20%5B-86.784007558323%2C%2036.171982063471%5D%2C%20%5B-86.784034525627%2C%2036.171961058077%5D%2C%20%5B-86.784047099705%2C%2036.171951262647%5D%2C%20%5B-86.784140103012%2C%2036.171883345553%5D%2C%20%5B-86.784041170246%2C%2036.171731284322%5D%2C%20%5B-86.783489621188%2C%2036.170883534329%5D%2C%20%5B-86.78342003727%2C%2036.170913498109%5D%2C%20%5B-86.783364360975%2C%2036.170934128266%5D%2C%20%5B-86.783163155962%2C%2036.171025543566%5D%2C%20%5B-86.782807034178%2C%2036.171173659031%5D%2C%20%5B-86.782431793724%2C%2036.171338950947%5D%2C%20%5B-86.782363803462%2C%2036.171233602568%5D%2C%20%5B-86.782255893062%2C%2036.171099450015%5D%2C%20%5B-86.782468179763%2C%2036.171009541676%5D%2C%20%5B-86.78258721752%2C%2036.170959125227%5D%2C%20%5B-86.782535596467%2C%2036.170877872492%5D%2C%20%5B-86.782447155956%2C%2036.170739169368%5D%2C%20%5B-86.782113105522%2C%2036.170878137913%5D%2C%20%5B-86.782049547239%2C%2036.170909063962%5D%2C%20%5B-86.781724211118%2C%2036.170402539914%5D%2C%20%5B-86.781788656264%2C%2036.170375328849%5D%2C%20%5B-86.782273848273%2C%2036.170171374385%5D%2C%20%5B-86.78228565693%2C%2036.170166353696%5D%2C%20%5B-86.782311296667%2C%2036.170155472224%5D%2C%20%5B-86.782313002841%2C%2036.170156561711%5D%2C%20%5B-86.782314702165%2C%2036.170157099538%5D%2C%20%5B-86.782318098122%2C%2036.170157902221%5D%2C%20%5B-86.782321155165%2C%2036.170158980091%5D%2C%20%5B-86.782324216574%2C%2036.170159784942%5D%2C%20%5B-86.782327615223%2C%2036.170160860597%5D%2C%20%5B-86.782330673705%2C%2036.170161941319%5D%2C%20%5B-86.782333730886%2C%2036.170162746769%5D%2C%20%5B-86.782337129529%2C%2036.170163821852%5D%2C%20%5B-86.782340190101%2C%2036.170164899698%5D%2C%20%5B-86.782343248584%2C%2036.170165980419%5D%2C%20%5B-86.782346310567%2C%2036.170167058256%5D%2C%20%5B-86.782349369039%2C%2036.170168137833%5D%2C%20%5B-86.78235276498%2C%2036.170168938798%5D%2C%20%5B-86.782355824875%2C%2036.17017001951%5D%2C%20%5B-86.782358885447%2C%2036.170171097355%5D%2C%20%5B-86.782361950151%2C%2036.170172451026%5D%2C%20%5B-86.782365008623%2C%2036.170173530602%5D%2C%20%5B-86.78236806709%2C%2036.170174609606%5D%2C%20%5B-86.782371126957%2C%2036.170175687456%5D%2C%20%5B-86.782374187558%2C%2036.170176768162%5D%2C%20%5B-86.782377248733%2C%2036.170178121856%5D%2C%20%5B-86.782380306483%2C%2036.170179199719%5D%2C%20%5B-86.78238336919%2C%2036.170180279267%5D%2C%20%5B-86.782386431777%2C%2036.170181632951%5D%2C%20%5B-86.782389492362%2C%2036.17018271194%5D%2C%20%5B-86.782392550818%2C%2036.170183789799%5D%2C%20%5B-86.782395615557%2C%2036.170185146902%5D%2C%20%5B-86.782398676699%2C%2036.170186497161%5D%2C%20%5B-86.782401736595%2C%2036.170187577872%5D%2C%20%5B-86.782404799888%2C%2036.17018893155%5D%2C%20%5B-86.78240785835%2C%2036.170190009981%5D%2C%20%5B-86.782410923056%2C%2036.17019136365%5D%2C%20%5B-86.782413645449%2C%2036.170192719538%5D%2C%20%5B-86.782416708743%2C%2036.170194073217%5D%2C%20%5B-86.78241977074%2C%2036.170195152196%5D%2C%20%5B-86.782422830505%2C%2036.170196505897%5D%2C%20%5B-86.782425554311%2C%2036.170197861776%5D%2C%20%5B-86.782428617605%2C%2036.170199215454%5D%2C%20%5B-86.782431680899%2C%2036.170200569132%5D%2C%20%5B-86.782434403294%2C%2036.17020192502%5D%2C%20%5B-86.782437465882%2C%2036.170203278702%5D%2C%20%5B-86.782440527765%2C%2036.170204632389%5D%2C%20%5B-86.782443252277%2C%2036.170205988263%5D%2C%20%5B-86.782446314866%2C%2036.170207341945%5D%2C%20%5B-86.782449040676%2C%2036.170208972517%5D%2C%20%5B-86.782452105382%2C%2036.170210326186%5D%2C%20%5B-86.782454827777%2C%2036.170211682073%5D%2C%20%5B-86.782457888955%2C%2036.170213035764%5D%2C%20%5B-86.782460618299%2C%2036.170214666886%5D%2C%20%5B-86.782463679478%2C%2036.170216020576%5D%2C%20%5B-86.782466406688%2C%2036.170217649995%5D%2C%20%5B-86.782469467866%2C%2036.170219003685%5D%2C%20%5B-86.782472195093%2C%2036.17022063482%5D%2C%20%5B-86.782474919606%2C%2036.170221990693%5D%2C%20%5B-86.782477983493%2C%2036.170223619073%5D%2C%20%5B-86.782480708007%2C%2036.170224974946%5D%2C%20%5B-86.782483435229%2C%2036.170226605509%5D%2C%20%5B-86.782486159742%2C%2036.170227961382%5D%2C%20%5B-86.782489223624%2C%2036.170229589189%5D%2C%20%5B-86.78249195083%2C%2036.170231218034%5D%2C%20%5B-86.782494678075%2C%2036.170232850886%5D%2C%20%5B-86.782497396942%2C%2036.170234206795%5D%2C%20%5B-86.782500126282%2C%2036.170235837343%5D%2C%20%5B-86.782502853505%2C%2036.170237467905%5D%2C%20%5B-86.782505580705%2C%2036.170239096178%5D%2C%20%5B-86.782508307957%2C%2036.170240729601%5D%2C%20%5B-86.782511033045%2C%2036.17024235846%5D%2C%20%5B-86.782513758868%2C%2036.170243990175%5D%2C%20%5B-86.782516486092%2C%2036.170245620737%5D%2C%20%5B-86.78251921331%2C%2036.170247250726%5D%2C%20%5B-86.782521940544%2C%2036.170248882432%5D%2C%20%5B-86.782524665634%2C%2036.170250511291%5D%2C%20%5B-86.782527394166%2C%2036.170252417695%5D%2C%20%5B-86.782530121384%2C%2036.170254047684%5D%2C%20%5B-86.78253284862%2C%2036.17025567939%5D%2C%20%5B-86.782535235632%2C%2036.17025731044%5D%2C%20%5B-86.782537965577%2C%2036.170259216835%5D%2C%20%5B-86.782540691384%2C%2036.170260846834%5D%2C%20%5B-86.782543420595%2C%2036.170262750372%5D%2C%20%5B-86.782545808353%2C%2036.170264385423%5D%2C%20%5B-86.782548534872%2C%2036.170266015988%5D%2C%20%5B-86.782550925322%2C%2036.170267924012%5D%2C%20%5B-86.78255365253%2C%2036.170269552856%5D%2C%20%5B-86.782556382475%2C%2036.170271459251%5D%2C%20%5B-86.782558772221%2C%2036.170273367279%5D%2C%20%5B-86.782561499429%2C%2036.170274996123%5D%2C%20%5B-86.78256388918%2C%2036.170276904723%5D%2C%20%5B-86.782566620532%2C%2036.170278810536%5D%2C%20%5B-86.782569006134%2C%2036.170280441595%5D%2C%20%5B-86.782571395885%2C%2036.170282350195%5D%2C%20%5B-86.782574125826%2C%2036.170284256017%5D%2C%20%5B-86.782576519089%2C%2036.170286162877%5D%2C%20%5B-86.782578902591%2C%2036.170287795666%5D%2C%20%5B-86.782581632532%2C%2036.170289701488%5D%2C%20%5B-86.782584022267%2C%2036.170291608371%5D%2C%20%5B-86.782586417654%2C%2036.17029351579%5D%2C%20%5B-86.782588805272%2C%2036.170295422686%5D%2C%20%5B-86.782591195019%2C%2036.170297330714%5D%2C%20%5B-86.782593584765%2C%2036.170299238741%5D%2C%20%5B-86.782598022158%2C%2036.170302505883%5D%2C%20%5B-86.782613205095%2C%2036.170296089177%5D%2C%20%5B-86.782710151585%2C%2036.170257833688%5D%2C%20%5B-86.782484436459%2C%2036.169902030868%5D%2C%20%5B-86.782367909363%2C%2036.169875619426%5D%2C%20%5B-86.782286143162%2C%2036.169860052707%5D%2C%20%5B-86.782212951698%2C%2036.169836626392%5D%2C%20%5B-86.781927775166%2C%2036.169777488627%5D%2C%20%5B-86.78190080818%2C%2036.169722720185%5D%2C%20%5B-86.781759728564%2C%2036.169433545599%5D%2C%20%5B-86.781768507829%2C%2036.169330529076%5D%2C%20%5B-86.781688958972%2C%2036.169323021693%5D%2C%20%5B-86.781581026038%2C%2036.169312468535%5D%2C%20%5B-86.781589900638%2C%2036.169252789319%5D%2C%20%5B-86.781630424006%2C%2036.168964084398%5D%2C%20%5B-86.781634023426%2C%2036.168572878076%5D%2C%20%5B-86.78158709341%2C%2036.168461066539%5D%2C%20%5B-86.780680207594%2C%2036.168809438886%5D%2C%20%5B-86.780480406348%2C%2036.168498589309%5D%2C%20%5B-86.780600815463%2C%2036.168447705195%5D%2C%20%5B-86.781005159851%2C%2036.168291802859%5D%2C%20%5B-86.780720872906%2C%2036.167806036783%5D%2C%20%5B-86.78028920054%2C%2036.167973378441%5D%2C%20%5B-86.780180242645%2C%2036.168031597889%5D%2C%20%5B-86.780018466339%2C%2036.167779902567%5D%2C%20%5B-86.779976461177%2C%2036.167714593971%5D%2C%20%5B-86.780089012105%2C%2036.167666999816%5D%2C%20%5B-86.780776850545%2C%2036.167400481506%5D%2C%20%5B-86.781224319422%2C%2036.167225707418%5D%2C%20%5B-86.781154590811%2C%2036.167123788487%5D%2C%20%5B-86.780753894451%2C%2036.166452104656%5D%2C%20%5B-86.781347020985%2C%2036.166159601603%5D%2C%20%5B-86.781256816408%2C%2036.166048013932%5D%2C%20%5B-86.781089694473%2C%2036.165796914234%5D%2C%20%5B-86.781618669514%2C%2036.165569326778%5D%2C%20%5B-86.78146114613%2C%2036.165326092998%5D%2C%20%5B-86.780338809699%2C%2036.165817567035%5D%2C%20%5B-86.779899453522%2C%2036.165150349215%5D%2C%20%5B-86.779835882868%2C%2036.165059190848%5D%2C%20%5B-86.779670657386%2C%2036.164802676617%5D%2C%20%5B-86.779600403405%2C%2036.164832430843%5D%2C%20%5B-86.7794566974%2C%2036.164894892898%5D%2C%20%5B-86.779421608237%2C%2036.164840726866%5D%2C%20%5B-86.779321088654%2C%2036.164885330301%5D%2C%20%5B-86.77917871111%2C%2036.16494503637%5D%2C%20%5B-86.779115987516%2C%2036.164974559702%5D%2C%20%5B-86.779054590557%2C%2036.165001329081%5D%2C%20%5B-86.779041336778%2C%2036.16500488968%5D%2C%20%5B-86.778816172264%2C%2036.164658979349%5D%2C%20%5B-86.778796206765%2C%2036.164667391756%5D%2C%20%5B-86.778747895303%2C%2036.16459900317%5D%2C%20%5B-86.778644471263%2C%2036.164436725459%5D%2C%20%5B-86.778618648456%2C%2036.164394282069%5D%2C%20%5B-86.778628241519%2C%2036.164390968331%5D%2C%20%5B-86.778584206636%2C%2036.16432263965%5D%2C%20%5B-86.778598213564%2C%2036.164316434188%5D%2C%20%5B-86.778569534144%2C%2036.164271437839%5D%2C%20%5B-86.778407352549%2C%2036.164031300544%5D%2C%20%5B-86.778401936035%2C%2036.164022995245%5D%2C%20%5B-86.778364152259%2C%2036.163965054744%5D%2C%20%5B-86.778337788028%2C%2036.163976397923%5D%2C%20%5B-86.778304459687%2C%2036.163920877%5D%2C%20%5B-86.778204078948%2C%2036.163766832511%5D%2C%20%5B-86.778126849232%2C%2036.163647072112%5D%2C%20%5B-86.778065104025%2C%2036.16355496416%5D%2C%20%5B-86.777997561667%2C%2036.163453641626%5D%2C%20%5B-86.777933199028%2C%2036.163353326993%5D%2C%20%5B-86.777898299268%2C%2036.163295842766%5D%2C%20%5B-86.777832554758%2C%2036.163200115442%5D%2C%20%5B-86.777832926723%2C%2036.163199973402%5D%2C%20%5B-86.777809334896%2C%2036.163166302658%5D%2C%20%5B-86.777767549974%2C%2036.163103730883%5D%2C%20%5B-86.777732596983%2C%2036.163047633077%5D%2C%20%5B-86.777723539784%2C%2036.16303265979%5D%2C%20%5B-86.77772840681%2C%2036.163020198485%5D%2C%20%5B-86.777673573583%2C%2036.162936090134%5D%2C%20%5B-86.777622444205%2C%2036.162860101826%5D%2C%20%5B-86.777560742685%2C%2036.162772618138%5D%2C%20%5B-86.777485716637%2C%2036.162648361374%5D%2C%20%5B-86.777510416042%2C%2036.162637997444%5D%2C%20%5B-86.778089800939%2C%2036.162387483983%5D%2C%20%5B-86.777794298712%2C%2036.161905445571%5D%2C%20%5B-86.777542381808%2C%2036.161520875728%5D%2C%20%5B-86.777502574098%2C%2036.161462985742%5D%2C%20%5B-86.777412300774%2C%2036.161332041273%5D%2C%20%5B-86.777474765411%2C%2036.161310894456%5D%2C%20%5B-86.777539708709%2C%2036.161282981841%5D%2C%20%5B-86.777527173951%2C%2036.161263707155%5D%2C%20%5B-86.777700032814%2C%2036.161187784201%5D%2C%20%5B-86.777793608244%2C%2036.161333874477%5D%2C%20%5B-86.777807403626%2C%2036.161354306801%5D%2C%20%5B-86.778101184463%2C%2036.161227503513%5D%2C%20%5B-86.7781012941%2C%2036.161227456449%5D%2C%20%5B-86.778118030901%2C%2036.161220149484%5D%2C%20%5B-86.778659449199%2C%2036.160983809009%5D%2C%20%5B-86.778746153399%2C%2036.160946922913%5D%2C%20%5B-86.779349845524%2C%2036.16188007272%5D%2C%20%5B-86.779929378339%2C%2036.161616958009%5D%2C%20%5B-86.780233398149%2C%2036.162073983633%5D%2C%20%5B-86.78023597702%2C%2036.162077858652%5D%2C%20%5B-86.780340346528%2C%2036.162234850025%5D%2C%20%5B-86.780349943442%2C%2036.162229951974%5D%2C%20%5B-86.78059474658%2C%2036.162127330834%5D%2C%20%5B-86.780594881539%2C%2036.162127275019%5D%2C%20%5B-86.780625498603%2C%2036.162140263527%5D%2C%20%5B-86.780762465684%2C%2036.162081964207%5D%2C%20%5B-86.780827575808%2C%2036.162054345202%5D%2C%20%5B-86.780918998141%2C%2036.162015295757%5D%2C%20%5B-86.781002399375%2C%2036.161981344185%5D%2C%20%5B-86.780604743407%2C%2036.161339029153%5D%2C%20%5B-86.781803817902%2C%2036.160806805858%5D%2C%20%5B-86.782658096434%2C%2036.162126504719%5D%2C%20%5B-86.782929169571%2C%2036.162540415858%5D%2C%20%5B-86.78298165497%2C%2036.16251893146%5D%2C%20%5B-86.783057413909%2C%2036.162486713496%5D%2C%20%5B-86.783079024364%2C%2036.162477522807%5D%2C%20%5B-86.78310160964%2C%2036.162467918307%5D%2C%20%5B-86.783170574978%2C%2036.162438588721%5D%2C%20%5B-86.783553803919%2C%2036.162275123713%5D%2C%20%5B-86.783640385683%2C%2036.162238216017%5D%2C%20%5B-86.783800757431%2C%2036.162485593342%5D%2C%20%5B-86.783597661808%2C%2036.162582453766%5D%2C%20%5B-86.783800479%2C%2036.162897659514%5D%2C%20%5B-86.783917168199%2C%2036.162844156622%5D%2C%20%5B-86.78400811061%2C%2036.162805381522%5D%2C%20%5B-86.784231635697%2C%2036.163150106138%5D%2C%20%5B-86.784107378932%2C%2036.1632060433%5D%2C%20%5B-86.784156717808%2C%2036.163293669818%5D%2C%20%5B-86.784525552289%2C%2036.163868681354%5D%2C%20%5B-86.784525568081%2C%2036.16386870815%5D%2C%20%5B-86.784002017927%2C%2036.164094622802%5D%2C%20%5B-86.783947752224%2C%2036.164117226037%5D%2C%20%5B-86.784378341247%2C%2036.164796939874%5D%2C%20%5B-86.785021435323%2C%2036.164543220659%5D%2C%20%5B-86.785606339477%2C%2036.164306991041%5D%2C%20%5B-86.786275826697%2C%2036.164048311627%5D%2C%20%5B-86.786497601141%2C%2036.164387953321%5D%2C%20%5B-86.786517701563%2C%2036.164418736096%5D%2C%20%5B-86.786610975179%2C%2036.164575142498%5D%2C%20%5B-86.786679189095%2C%2036.164689529102%5D%2C%20%5B-86.786814424863%2C%2036.164981955694%5D%2C%20%5B-86.78694112345%2C%2036.165303052581%5D%2C%20%5B-86.787014394696%2C%2036.165574420247%5D%2C%20%5B-86.787051894325%2C%2036.165726747701%5D%2C%20%5B-86.787105970055%2C%2036.16594640487%5D%2C%20%5B-86.787335928861%2C%2036.166880484807%5D%2C%20%5B-86.787442250982%2C%2036.16731235294%5D%2C%20%5B-86.787476001369%2C%2036.16744944295%5D%2C%20%5B-86.787704642637%2C%2036.167587365559%5D%2C%20%5B-86.78775511663%2C%2036.16763785758%5D%2C%20%5B-86.788061782502%2C%2036.168111306041%5D%2C%20%5B-86.787961822993%2C%2036.168201727872%5D%2C%20%5B-86.787944622866%2C%2036.168216455164%5D%2C%20%5B-86.787858885659%2C%2036.16828599329%5D%2C%20%5B-86.78776935698%2C%2036.168352370067%5D%2C%20%5B-86.787676306474%2C%2036.168415445227%5D%2C%20%5B-86.787579834438%2C%2036.168475083045%5D%2C%20%5B-86.787480207938%2C%2036.168531167307%5D%2C%20%5B-86.787377597452%2C%2036.168583592736%5D%2C%20%5B-86.787272172659%2C%2036.168632244326%5D%2C%20%5B-86.787023724153%2C%2036.168737977532%5D%2C%20%5B-86.786953405997%2C%2036.168633085778%5D%2C%20%5B-86.786901821445%2C%2036.168555956355%5D%2C%20%5B-86.786855236182%2C%2036.16847055081%5D%2C%20%5B-86.786837176251%2C%2036.168459952671%5D%2C%20%5B-86.786810135543%2C%2036.168398046811%5D%2C%20%5B-86.786601255467%2C%2036.168071956583%5D%2C%20%5B-86.786599869525%2C%2036.168069494394%5D%2C%20%5B-86.786598830916%2C%2036.16806675409%5D%2C%20%5B-86.786597789383%2C%2036.168064288511%5D%2C%20%5B-86.786597085312%2C%2036.168061546026%5D%2C%20%5B-86.786596379124%2C%2036.168058803555%5D%2C%20%5B-86.786595673643%2C%2036.16805606108%5D%2C%20%5B-86.786595312475%2C%2036.168053590495%5D%2C%20%5B-86.786594945061%2C%2036.168050845816%5D%2C%20%5B-86.786594917832%2C%2036.16804809892%5D%2C%20%5B-86.786594551829%2C%2036.168045354232%5D%2C%20%5B-86.786594863374%2C%2036.168042605128%5D%2C%20%5B-86.786594836145%2C%2036.168039858233%5D%2C%20%5B-86.786595149101%2C%2036.16803710912%5D%2C%20%5B-86.78659545854%2C%2036.168034361174%5D%2C%20%5B-86.786596109564%2C%2036.168031609858%5D%2C%20%5B-86.786596761311%2C%2036.168028860254%5D%2C%20%5B-86.786597748973%2C%2036.168026105027%5D%2C%20%5B-86.786598403415%2C%2036.168023627251%5D%2C%20%5B-86.786599387594%2C%2036.168020876626%5D%2C%20%5B-86.786600724511%2C%2036.168018393257%5D%2C%20%5B-86.78660205157%2C%2036.168015912243%5D%2C%20%5B-86.786603384274%2C%2036.168013431191%5D%2C%20%5B-86.786604713456%2C%2036.168010950735%5D%2C%20%5B-86.786606382805%2C%2036.168008466345%5D%2C%20%5B-86.786608052189%2C%2036.168005985388%5D%2C%20%5B-86.78661006444%2C%2036.168003772899%5D%2C%20%5B-86.786611736512%2C%2036.168001563198%5D%2C%20%5B-86.78661374254%2C%2036.167999078903%5D%2C%20%5B-86.786615754785%2C%2036.167996865841%5D%2C%20%5B-86.786618438471%2C%2036.167994103566%5D%2C%20%5B-86.786622797545%2C%2036.167989679839%5D%2C%20%5B-86.786629835563%2C%2036.167981944454%5D%2C%20%5B-86.786551715652%2C%2036.167910797299%5D%2C%20%5B-86.786439138702%2C%2036.168003559556%5D%2C%20%5B-86.786409734227%2C%2036.168027788037%5D%2C%20%5B-86.786192437085%2C%2036.168151447838%5D%2C%20%5B-86.785997600394%2C%2036.168262599719%5D%2C%20%5B-86.785757999984%2C%2036.168386403961%5D%2C%20%5B-86.785570664463%2C%2036.168485374544%5D%2C%20%5B-86.785345256076%2C%2036.168560096117%5D%2C%20%5B-86.785244856771%2C%2036.168599666204%5D%2C%20%5B-86.785187762495%2C%2036.168622014218%5D%2C%20%5B-86.785116192933%2C%2036.168638786521%5D%2C%20%5B-86.785152273251%2C%2036.168727502603%5D%2C%20%5B-86.785152520982%2C%2036.168727500992%5D%2C%20%5B-86.785153290286%2C%2036.168727495987%5D%2C%20%5B-86.785156675351%2C%2036.168727200977%5D%2C%20%5B-86.785160063116%2C%2036.168727178939%5D%2C%20%5B-86.785163450881%2C%2036.168727156901%5D%2C%20%5B-86.785166841347%2C%2036.168727407836%5D%2C%20%5B-86.785170231841%2C%2036.168727661632%5D%2C%20%5B-86.785173625043%2C%2036.168728188973%5D%2C%20%5B-86.78517702035%2C%2036.168728715155%5D%2C%20%5B-86.785180071257%2C%2036.168729245867%5D%2C%20%5B-86.785183469894%2C%2036.168730322587%5D%2C%20%5B-86.785186527748%2C%2036.168731127389%5D%2C%20%5B-86.785189590344%2C%2036.168732482719%5D%2C%20%5B-86.785192650183%2C%2036.168733559353%5D%2C%20%5B-86.785195713468%2C%2036.168734912962%5D%2C%20%5B-86.785198439288%2C%2036.168736544045%5D%2C%20%5B-86.785201165798%2C%2036.168738173406%5D%2C%20%5B-86.785203893736%2C%2036.168739804476%5D%2C%20%5B-86.785206283493%2C%2036.16874171188%5D%2C%20%5B-86.785208673245%2C%2036.168743618712%5D%2C%20%5B-86.785211063007%2C%2036.168745526688%5D%2C%20%5B-86.785213118818%2C%2036.1687477104%5D%2C%20%5B-86.785215168993%2C%2036.168749895293%5D%2C%20%5B-86.785216890869%2C%2036.168752356456%5D%2C%20%5B-86.785218606491%2C%2036.168754542381%5D%2C%20%5B-86.785220324849%2C%2036.168757004711%5D%2C%20%5B-86.785220674493%2C%2036.168758100694%5D%2C%20%5B-86.785430834521%2C%2036.169076767801%5D%2C%20%5B-86.78548827873%2C%2036.169129960744%5D%2C%20%5B-86.785508882772%2C%2036.16915784622%5D%2C%20%5B-86.785536005921%2C%2036.169193932199%5D%2C%20%5B-86.785562861013%2C%2036.169237161732%5D%2C%20%5B-86.78556354873%2C%2036.16923825494%5D%2C%20%5B-86.785626743999%2C%2036.169332483121%5D%2C%20%5B-86.7853628897%2C%2036.169444767609%5D%2C%20%5B-86.785250886527%2C%2036.16948645575%5D%2C%20%5B-86.785135935579%2C%2036.169524425798%5D%2C%20%5B-86.785019010165%2C%2036.169558316013%5D%2C%20%5B-86.784900420031%2C%2036.16958804139%5D%2C%20%5B-86.784780327686%2C%2036.169613545926%5D%2C%20%5B-86.784659009277%2C%2036.16963477288%5D%2C%20%5B-86.784536632795%2C%2036.169651720585%5D%2C%20%5B-86.784413502359%2C%2036.169664305794%5D%2C%20%5B-86.784373084192%2C%2036.169668900248%5D%2C%20%5B-86.784395496507%2C%2036.169702872084%5D%2C%20%5B-86.784707640786%2C%2036.170176086521%5D%2C%20%5B-86.784877451568%2C%2036.17038879728%5D%2C%20%5B-86.785104157605%2C%2036.170730020578%5D%2C%20%5B-86.785635136296%2C%2036.17154679409%5D%2C%20%5B-86.785969397223%2C%2036.17205671884%5D%2C%20%5B-86.78610021722%2C%2036.172265788303%5D%2C%20%5B-86.786354125461%2C%2036.172644145784%5D%2C%20%5B-86.786463060266%2C%2036.17281009163%5D%2C%20%5B-86.786520424295%2C%2036.172898576407%5D%2C%20%5B-86.786588751811%2C%2036.172873755496%5D%2C%20%5B-86.787125217629%2C%2036.172652812317%5D%2C%20%5B-86.787396249235%2C%2036.173064593087%5D%2C%20%5B-86.787405876307%2C%2036.173079219098%5D%2C%20%5B-86.787435805334%2C%2036.173124689885%5D%2C%20%5B-86.787443303902%2C%2036.173136082513%5D%2C%20%5B-86.787460194505%2C%2036.173161744988%5D%2C%20%5B-86.787477763814%2C%2036.173188438908%5D%2C%20%5B-86.787498910769%2C%2036.173220566995%5D%2C%20%5B-86.787545333502%2C%2036.173291095021%5D%2C%20%5B-86.787602867014%2C%2036.173378505675%5D%2C%20%5B-86.787692877777%2C%2036.173515258069%5D%2C%20%5B-86.787739093745%2C%2036.173585472598%5D%2C%20%5B-86.787790608248%2C%2036.173663737497%5D%2C%20%5B-86.787766753859%2C%2036.173673327075%5D%2C%20%5B-86.787623666793%2C%2036.173730850451%5D%2C%20%5B-86.787698052409%2C%2036.173851785519%5D%2C%20%5B-86.78734174092%2C%2036.174001353093%5D%2C%20%5B-86.787255507642%2C%2036.174033883413%5D%2C%20%5B-86.787436566843%2C%2036.174314871029%5D%2C%20%5B-86.786094261218%2C%2036.174645543359%5D%5D%5D%5D%2C%20%22type%22%3A%20%22MultiPolygon%22%7D%2C%20%22id%22%3A%20%2224%22%2C%20%22properties%22%3A%20%7B%22po_name%22%3A%20%22NASHVILLE%22%2C%20%22zip%22%3A%20%2237219%22%7D%2C%20%22type%22%3A%20%22Feature%22%7D%5D%2C%20%22type%22%3A%20%22FeatureCollection%22%7D%29%3B%0A%20%20%20%20%20%20%20%20%0A%20%20%20%20%0A%20%20%20%20%20%20%20%20%20%20%20%20var%20marker_acdcfa3270774b28bff00b1d1fc975a0%20%3D%20L.marker%28%0A%20%20%20%20%20%20%20%20%20%20%20%20%20%20%20%20%5B36.16489%2C%20-86.78184%5D%2C%0A%20%20%20%20%20%20%20%20%20%20%20%20%20%20%20%20%7B%7D%0A%20%20%20%20%20%20%20%20%20%20%20%20%29.addTo%28map_e495d046581445cbadf44f0f628fcbbc%29%3B%0A%20%20%20%20%20%20%20%20%0A%20%20%20%20%0A%20%20%20%20%20%20%20%20%20%20%20%20var%20icon_67b09652e4564305a0f31b799e28b26d%20%3D%20L.AwesomeMarkers.icon%28%0A%20%20%20%20%20%20%20%20%20%20%20%20%20%20%20%20%7B%22extraClasses%22%3A%20%22fa-rotate-0%22%2C%20%22icon%22%3A%20%22eye%22%2C%20%22iconColor%22%3A%20%22white%22%2C%20%22markerColor%22%3A%20%22purple%22%2C%20%22prefix%22%3A%20%22fa%22%7D%0A%20%20%20%20%20%20%20%20%20%20%20%20%29%3B%0A%20%20%20%20%20%20%20%20%20%20%20%20marker_acdcfa3270774b28bff00b1d1fc975a0.setIcon%28icon_67b09652e4564305a0f31b799e28b26d%29%3B%0A%20%20%20%20%20%20%20%20%0A%20%20%20%20%0A%20%20%20%20%20%20%20%20%20%20%20%20marker_acdcfa3270774b28bff00b1d1fc975a0.bindTooltip%28%0A%20%20%20%20%20%20%20%20%20%20%20%20%20%20%20%20%60%3Cdiv%3E%0A%20%20%20%20%20%20%20%20%20%20%20%20%20%20%20%20%20%20%20%20%20%28%27Anticipation%27%2C%20%27Sculpture%27%29%0A%20%20%20%20%20%20%20%20%20%20%20%20%20%20%20%20%20%3C/div%3E%60%2C%0A%20%20%20%20%20%20%20%20%20%20%20%20%20%20%20%20%7B%22sticky%22%3A%20true%7D%0A%20%20%20%20%20%20%20%20%20%20%20%20%29%3B%0A%20%20%20%20%20%20%20%20%0A%20%20%20%20%0A%20%20%20%20%20%20%20%20%20%20%20%20var%20marker_6a1e61ec26344ccaab7d41906fc4b385%20%3D%20L.marker%28%0A%20%20%20%20%20%20%20%20%20%20%20%20%20%20%20%20%5B36.16281%2C%20-86.78186%5D%2C%0A%20%20%20%20%20%20%20%20%20%20%20%20%20%20%20%20%7B%7D%0A%20%20%20%20%20%20%20%20%20%20%20%20%29.addTo%28map_e495d046581445cbadf44f0f628fcbbc%29%3B%0A%20%20%20%20%20%20%20%20%0A%20%20%20%20%0A%20%20%20%20%20%20%20%20%20%20%20%20var%20icon_4bc5aacb443342888ac03057eba573d6%20%3D%20L.AwesomeMarkers.icon%28%0A%20%20%20%20%20%20%20%20%20%20%20%20%20%20%20%20%7B%22extraClasses%22%3A%20%22fa-rotate-0%22%2C%20%22icon%22%3A%20%22eye%22%2C%20%22iconColor%22%3A%20%22white%22%2C%20%22markerColor%22%3A%20%22purple%22%2C%20%22prefix%22%3A%20%22fa%22%7D%0A%20%20%20%20%20%20%20%20%20%20%20%20%29%3B%0A%20%20%20%20%20%20%20%20%20%20%20%20marker_6a1e61ec26344ccaab7d41906fc4b385.setIcon%28icon_4bc5aacb443342888ac03057eba573d6%29%3B%0A%20%20%20%20%20%20%20%20%0A%20%20%20%20%0A%20%20%20%20%20%20%20%20%20%20%20%20marker_6a1e61ec26344ccaab7d41906fc4b385.bindTooltip%28%0A%20%20%20%20%20%20%20%20%20%20%20%20%20%20%20%20%60%3Cdiv%3E%0A%20%20%20%20%20%20%20%20%20%20%20%20%20%20%20%20%20%20%20%20%20%28%27Piecing%20It%20All%20Together%27%2C%20%27Mural%27%29%0A%20%20%20%20%20%20%20%20%20%20%20%20%20%20%20%20%20%3C/div%3E%60%2C%0A%20%20%20%20%20%20%20%20%20%20%20%20%20%20%20%20%7B%22sticky%22%3A%20true%7D%0A%20%20%20%20%20%20%20%20%20%20%20%20%29%3B%0A%20%20%20%20%20%20%20%20%0A%20%20%20%20%0A%20%20%20%20%20%20%20%20%20%20%20%20var%20marker_ccadd5872cd74ba5b175056839af4c2b%20%3D%20L.marker%28%0A%20%20%20%20%20%20%20%20%20%20%20%20%20%20%20%20%5B36.16466%2C%20-86.78102%5D%2C%0A%20%20%20%20%20%20%20%20%20%20%20%20%20%20%20%20%7B%7D%0A%20%20%20%20%20%20%20%20%20%20%20%20%29.addTo%28map_e495d046581445cbadf44f0f628fcbbc%29%3B%0A%20%20%20%20%20%20%20%20%0A%20%20%20%20%0A%20%20%20%20%20%20%20%20%20%20%20%20var%20icon_6d77ea4fd87048419e13bbfa5f519824%20%3D%20L.AwesomeMarkers.icon%28%0A%20%20%20%20%20%20%20%20%20%20%20%20%20%20%20%20%7B%22extraClasses%22%3A%20%22fa-rotate-0%22%2C%20%22icon%22%3A%20%22eye%22%2C%20%22iconColor%22%3A%20%22white%22%2C%20%22markerColor%22%3A%20%22purple%22%2C%20%22prefix%22%3A%20%22fa%22%7D%0A%20%20%20%20%20%20%20%20%20%20%20%20%29%3B%0A%20%20%20%20%20%20%20%20%20%20%20%20marker_ccadd5872cd74ba5b175056839af4c2b.setIcon%28icon_6d77ea4fd87048419e13bbfa5f519824%29%3B%0A%20%20%20%20%20%20%20%20%0A%20%20%20%20%0A%20%20%20%20%20%20%20%20%20%20%20%20marker_ccadd5872cd74ba5b175056839af4c2b.bindTooltip%28%0A%20%20%20%20%20%20%20%20%20%20%20%20%20%20%20%20%60%3Cdiv%3E%0A%20%20%20%20%20%20%20%20%20%20%20%20%20%20%20%20%20%20%20%20%20%28%27Chet%20Atkins%27%2C%20%27Sculpture%27%29%0A%20%20%20%20%20%20%20%20%20%20%20%20%20%20%20%20%20%3C/div%3E%60%2C%0A%20%20%20%20%20%20%20%20%20%20%20%20%20%20%20%20%7B%22sticky%22%3A%20true%7D%0A%20%20%20%20%20%20%20%20%20%20%20%20%29%3B%0A%20%20%20%20%20%20%20%20%0A%20%20%20%20%0A%20%20%20%20%20%20%20%20%20%20%20%20var%20marker_12250d8102a04461aeddcf7ddcf7584b%20%3D%20L.marker%28%0A%20%20%20%20%20%20%20%20%20%20%20%20%20%20%20%20%5B36.16527%2C%20-86.78382%5D%2C%0A%20%20%20%20%20%20%20%20%20%20%20%20%20%20%20%20%7B%7D%0A%20%20%20%20%20%20%20%20%20%20%20%20%29.addTo%28map_e495d046581445cbadf44f0f628fcbbc%29%3B%0A%20%20%20%20%20%20%20%20%0A%20%20%20%20%0A%20%20%20%20%20%20%20%20%20%20%20%20var%20icon_c2532db5abe840838001d25b9cad3f8e%20%3D%20L.AwesomeMarkers.icon%28%0A%20%20%20%20%20%20%20%20%20%20%20%20%20%20%20%20%7B%22extraClasses%22%3A%20%22fa-rotate-0%22%2C%20%22icon%22%3A%20%22eye%22%2C%20%22iconColor%22%3A%20%22white%22%2C%20%22markerColor%22%3A%20%22purple%22%2C%20%22prefix%22%3A%20%22fa%22%7D%0A%20%20%20%20%20%20%20%20%20%20%20%20%29%3B%0A%20%20%20%20%20%20%20%20%20%20%20%20marker_12250d8102a04461aeddcf7ddcf7584b.setIcon%28icon_c2532db5abe840838001d25b9cad3f8e%29%3B%0A%20%20%20%20%20%20%20%20%0A%20%20%20%20%0A%20%20%20%20%20%20%20%20%20%20%20%20marker_12250d8102a04461aeddcf7ddcf7584b.bindTooltip%28%0A%20%20%20%20%20%20%20%20%20%20%20%20%20%20%20%20%60%3Cdiv%3E%0A%20%20%20%20%20%20%20%20%20%20%20%20%20%20%20%20%20%20%20%20%20%28%27Women%20Suffrage%20Memorial%27%2C%20%27Sculpture%27%29%0A%20%20%20%20%20%20%20%20%20%20%20%20%20%20%20%20%20%3C/div%3E%60%2C%0A%20%20%20%20%20%20%20%20%20%20%20%20%20%20%20%20%7B%22sticky%22%3A%20true%7D%0A%20%20%20%20%20%20%20%20%20%20%20%20%29%3B%0A%20%20%20%20%20%20%20%20%0A%20%20%20%20%0A%20%20%20%20%20%20%20%20%20%20%20%20var%20marker_a966c8c09592462cb1b59e4bc82ea2c5%20%3D%20L.marker%28%0A%20%20%20%20%20%20%20%20%20%20%20%20%20%20%20%20%5B36.16215%2C%20-86.78205%5D%2C%0A%20%20%20%20%20%20%20%20%20%20%20%20%20%20%20%20%7B%7D%0A%20%20%20%20%20%20%20%20%20%20%20%20%29.addTo%28map_e495d046581445cbadf44f0f628fcbbc%29%3B%0A%20%20%20%20%20%20%20%20%0A%20%20%20%20%0A%20%20%20%20%20%20%20%20%20%20%20%20var%20icon_71c3847b525348008dec700ee1f9cd54%20%3D%20L.AwesomeMarkers.icon%28%0A%20%20%20%20%20%20%20%20%20%20%20%20%20%20%20%20%7B%22extraClasses%22%3A%20%22fa-rotate-0%22%2C%20%22icon%22%3A%20%22eye%22%2C%20%22iconColor%22%3A%20%22white%22%2C%20%22markerColor%22%3A%20%22purple%22%2C%20%22prefix%22%3A%20%22fa%22%7D%0A%20%20%20%20%20%20%20%20%20%20%20%20%29%3B%0A%20%20%20%20%20%20%20%20%20%20%20%20marker_a966c8c09592462cb1b59e4bc82ea2c5.setIcon%28icon_71c3847b525348008dec700ee1f9cd54%29%3B%0A%20%20%20%20%20%20%20%20%0A%20%20%20%20%0A%20%20%20%20%20%20%20%20%20%20%20%20marker_a966c8c09592462cb1b59e4bc82ea2c5.bindTooltip%28%0A%20%20%20%20%20%20%20%20%20%20%20%20%20%20%20%20%60%3Cdiv%3E%0A%20%20%20%20%20%20%20%20%20%20%20%20%20%20%20%20%20%20%20%20%20%28%27Foliated%20Scroll%27%2C%20%27Frieze%27%29%0A%20%20%20%20%20%20%20%20%20%20%20%20%20%20%20%20%20%3C/div%3E%60%2C%0A%20%20%20%20%20%20%20%20%20%20%20%20%20%20%20%20%7B%22sticky%22%3A%20true%7D%0A%20%20%20%20%20%20%20%20%20%20%20%20%29%3B%0A%20%20%20%20%20%20%20%20%0A%20%20%20%20%0A%20%20%20%20%20%20%20%20%20%20%20%20var%20marker_52414c2df907453b8c6991a4676611bd%20%3D%20L.marker%28%0A%20%20%20%20%20%20%20%20%20%20%20%20%20%20%20%20%5B36.1656%2C%20-86.78275%5D%2C%0A%20%20%20%20%20%20%20%20%20%20%20%20%20%20%20%20%7B%7D%0A%20%20%20%20%20%20%20%20%20%20%20%20%29.addTo%28map_e495d046581445cbadf44f0f628fcbbc%29%3B%0A%20%20%20%20%20%20%20%20%0A%20%20%20%20%0A%20%20%20%20%20%20%20%20%20%20%20%20var%20icon_4e3c1fbfe1044326a6136a77ec28465b%20%3D%20L.AwesomeMarkers.icon%28%0A%20%20%20%20%20%20%20%20%20%20%20%20%20%20%20%20%7B%22extraClasses%22%3A%20%22fa-rotate-0%22%2C%20%22icon%22%3A%20%22eye%22%2C%20%22iconColor%22%3A%20%22white%22%2C%20%22markerColor%22%3A%20%22purple%22%2C%20%22prefix%22%3A%20%22fa%22%7D%0A%20%20%20%20%20%20%20%20%20%20%20%20%29%3B%0A%20%20%20%20%20%20%20%20%20%20%20%20marker_52414c2df907453b8c6991a4676611bd.setIcon%28icon_4e3c1fbfe1044326a6136a77ec28465b%29%3B%0A%20%20%20%20%20%20%20%20%0A%20%20%20%20%0A%20%20%20%20%20%20%20%20%20%20%20%20marker_52414c2df907453b8c6991a4676611bd.bindTooltip%28%0A%20%20%20%20%20%20%20%20%20%20%20%20%20%20%20%20%60%3Cdiv%3E%0A%20%20%20%20%20%20%20%20%20%20%20%20%20%20%20%20%20%20%20%20%20%28%27Sergeant%20Alvin%20C.%20York%27%2C%20%27Sculpture%27%29%0A%20%20%20%20%20%20%20%20%20%20%20%20%20%20%20%20%20%3C/div%3E%60%2C%0A%20%20%20%20%20%20%20%20%20%20%20%20%20%20%20%20%7B%22sticky%22%3A%20true%7D%0A%20%20%20%20%20%20%20%20%20%20%20%20%29%3B%0A%20%20%20%20%20%20%20%20%0A%20%20%20%20%0A%20%20%20%20%20%20%20%20%20%20%20%20var%20marker_463314773e724e0f8815129457906203%20%3D%20L.marker%28%0A%20%20%20%20%20%20%20%20%20%20%20%20%20%20%20%20%5B36.16215%2C%20-86.78205%5D%2C%0A%20%20%20%20%20%20%20%20%20%20%20%20%20%20%20%20%7B%7D%0A%20%20%20%20%20%20%20%20%20%20%20%20%29.addTo%28map_e495d046581445cbadf44f0f628fcbbc%29%3B%0A%20%20%20%20%20%20%20%20%0A%20%20%20%20%0A%20%20%20%20%20%20%20%20%20%20%20%20var%20icon_a354c93d96c4409f84a7a9dbae08fe46%20%3D%20L.AwesomeMarkers.icon%28%0A%20%20%20%20%20%20%20%20%20%20%20%20%20%20%20%20%7B%22extraClasses%22%3A%20%22fa-rotate-0%22%2C%20%22icon%22%3A%20%22eye%22%2C%20%22iconColor%22%3A%20%22white%22%2C%20%22markerColor%22%3A%20%22purple%22%2C%20%22prefix%22%3A%20%22fa%22%7D%0A%20%20%20%20%20%20%20%20%20%20%20%20%29%3B%0A%20%20%20%20%20%20%20%20%20%20%20%20marker_463314773e724e0f8815129457906203.setIcon%28icon_a354c93d96c4409f84a7a9dbae08fe46%29%3B%0A%20%20%20%20%20%20%20%20%0A%20%20%20%20%0A%20%20%20%20%20%20%20%20%20%20%20%20marker_463314773e724e0f8815129457906203.bindTooltip%28%0A%20%20%20%20%20%20%20%20%20%20%20%20%20%20%20%20%60%3Cdiv%3E%0A%20%20%20%20%20%20%20%20%20%20%20%20%20%20%20%20%20%20%20%20%20%28%27Nashville%2C%20A%20History%20through%20Maps%20and%20Aerial%20Views%27%2C%20%27Mural%27%29%0A%20%20%20%20%20%20%20%20%20%20%20%20%20%20%20%20%20%3C/div%3E%60%2C%0A%20%20%20%20%20%20%20%20%20%20%20%20%20%20%20%20%7B%22sticky%22%3A%20true%7D%0A%20%20%20%20%20%20%20%20%20%20%20%20%29%3B%0A%20%20%20%20%20%20%20%20%0A%20%20%20%20%0A%20%20%20%20%20%20%20%20%20%20%20%20var%20marker_077a9cf623e342af87dc43fd1b33b100%20%3D%20L.marker%28%0A%20%20%20%20%20%20%20%20%20%20%20%20%20%20%20%20%5B36.17317%2C%20-86.78512%5D%2C%0A%20%20%20%20%20%20%20%20%20%20%20%20%20%20%20%20%7B%7D%0A%20%20%20%20%20%20%20%20%20%20%20%20%29.addTo%28map_e495d046581445cbadf44f0f628fcbbc%29%3B%0A%20%20%20%20%20%20%20%20%0A%20%20%20%20%0A%20%20%20%20%20%20%20%20%20%20%20%20var%20icon_a412a1db4b934d40bf904b7b2745946e%20%3D%20L.AwesomeMarkers.icon%28%0A%20%20%20%20%20%20%20%20%20%20%20%20%20%20%20%20%7B%22extraClasses%22%3A%20%22fa-rotate-0%22%2C%20%22icon%22%3A%20%22eye%22%2C%20%22iconColor%22%3A%20%22white%22%2C%20%22markerColor%22%3A%20%22purple%22%2C%20%22prefix%22%3A%20%22fa%22%7D%0A%20%20%20%20%20%20%20%20%20%20%20%20%29%3B%0A%20%20%20%20%20%20%20%20%20%20%20%20marker_077a9cf623e342af87dc43fd1b33b100.setIcon%28icon_a412a1db4b934d40bf904b7b2745946e%29%3B%0A%20%20%20%20%20%20%20%20%0A%20%20%20%20%0A%20%20%20%20%20%20%20%20%20%20%20%20marker_077a9cf623e342af87dc43fd1b33b100.bindTooltip%28%0A%20%20%20%20%20%20%20%20%20%20%20%20%20%20%20%20%60%3Cdiv%3E%0A%20%20%20%20%20%20%20%20%20%20%20%20%20%20%20%20%20%20%20%20%20%28%27Coach%20Ed%20Temple%27%2C%20%27Sculpture%27%29%0A%20%20%20%20%20%20%20%20%20%20%20%20%20%20%20%20%20%3C/div%3E%60%2C%0A%20%20%20%20%20%20%20%20%20%20%20%20%20%20%20%20%7B%22sticky%22%3A%20true%7D%0A%20%20%20%20%20%20%20%20%20%20%20%20%29%3B%0A%20%20%20%20%20%20%20%20%0A%20%20%20%20%0A%20%20%20%20%20%20%20%20%20%20%20%20var%20marker_55f63f58b2fb41f5874396733a2540d2%20%3D%20L.marker%28%0A%20%20%20%20%20%20%20%20%20%20%20%20%20%20%20%20%5B36.1656%2C%20-86.78331%5D%2C%0A%20%20%20%20%20%20%20%20%20%20%20%20%20%20%20%20%7B%7D%0A%20%20%20%20%20%20%20%20%20%20%20%20%29.addTo%28map_e495d046581445cbadf44f0f628fcbbc%29%3B%0A%20%20%20%20%20%20%20%20%0A%20%20%20%20%0A%20%20%20%20%20%20%20%20%20%20%20%20var%20icon_e5ccabe90ef44d2190b3abfa1583fec2%20%3D%20L.AwesomeMarkers.icon%28%0A%20%20%20%20%20%20%20%20%20%20%20%20%20%20%20%20%7B%22extraClasses%22%3A%20%22fa-rotate-0%22%2C%20%22icon%22%3A%20%22eye%22%2C%20%22iconColor%22%3A%20%22white%22%2C%20%22markerColor%22%3A%20%22purple%22%2C%20%22prefix%22%3A%20%22fa%22%7D%0A%20%20%20%20%20%20%20%20%20%20%20%20%29%3B%0A%20%20%20%20%20%20%20%20%20%20%20%20marker_55f63f58b2fb41f5874396733a2540d2.setIcon%28icon_e5ccabe90ef44d2190b3abfa1583fec2%29%3B%0A%20%20%20%20%20%20%20%20%0A%20%20%20%20%0A%20%20%20%20%20%20%20%20%20%20%20%20marker_55f63f58b2fb41f5874396733a2540d2.bindTooltip%28%0A%20%20%20%20%20%20%20%20%20%20%20%20%20%20%20%20%60%3Cdiv%3E%0A%20%20%20%20%20%20%20%20%20%20%20%20%20%20%20%20%20%20%20%20%20%28%27President%20Andrew%20Johnson%27%2C%20%27Sculpture%27%29%0A%20%20%20%20%20%20%20%20%20%20%20%20%20%20%20%20%20%3C/div%3E%60%2C%0A%20%20%20%20%20%20%20%20%20%20%20%20%20%20%20%20%7B%22sticky%22%3A%20true%7D%0A%20%20%20%20%20%20%20%20%20%20%20%20%29%3B%0A%20%20%20%20%20%20%20%20%0A%20%20%20%20%0A%20%20%20%20%20%20%20%20%20%20%20%20var%20marker_80d5b3bfb87542b7962db9ab24f775a1%20%3D%20L.marker%28%0A%20%20%20%20%20%20%20%20%20%20%20%20%20%20%20%20%5B36.16527%2C%20-86.78382%5D%2C%0A%20%20%20%20%20%20%20%20%20%20%20%20%20%20%20%20%7B%7D%0A%20%20%20%20%20%20%20%20%20%20%20%20%29.addTo%28map_e495d046581445cbadf44f0f628fcbbc%29%3B%0A%20%20%20%20%20%20%20%20%0A%20%20%20%20%0A%20%20%20%20%20%20%20%20%20%20%20%20var%20icon_6587657e5497446da9089d717e920f3a%20%3D%20L.AwesomeMarkers.icon%28%0A%20%20%20%20%20%20%20%20%20%20%20%20%20%20%20%20%7B%22extraClasses%22%3A%20%22fa-rotate-0%22%2C%20%22icon%22%3A%20%22eye%22%2C%20%22iconColor%22%3A%20%22white%22%2C%20%22markerColor%22%3A%20%22purple%22%2C%20%22prefix%22%3A%20%22fa%22%7D%0A%20%20%20%20%20%20%20%20%20%20%20%20%29%3B%0A%20%20%20%20%20%20%20%20%20%20%20%20marker_80d5b3bfb87542b7962db9ab24f775a1.setIcon%28icon_6587657e5497446da9089d717e920f3a%29%3B%0A%20%20%20%20%20%20%20%20%0A%20%20%20%20%0A%20%20%20%20%20%20%20%20%20%20%20%20marker_80d5b3bfb87542b7962db9ab24f775a1.bindTooltip%28%0A%20%20%20%20%20%20%20%20%20%20%20%20%20%20%20%20%60%3Cdiv%3E%0A%20%20%20%20%20%20%20%20%20%20%20%20%20%20%20%20%20%20%20%20%20%28%27Edward%20Ward%20Carmack%27%2C%20%27Sculpture%27%29%0A%20%20%20%20%20%20%20%20%20%20%20%20%20%20%20%20%20%3C/div%3E%60%2C%0A%20%20%20%20%20%20%20%20%20%20%20%20%20%20%20%20%7B%22sticky%22%3A%20true%7D%0A%20%20%20%20%20%20%20%20%20%20%20%20%29%3B%0A%20%20%20%20%20%20%20%20%0A%20%20%20%20%0A%20%20%20%20%20%20%20%20%20%20%20%20var%20marker_d047c6a5b6d34cb992d858e1f709adbc%20%3D%20L.marker%28%0A%20%20%20%20%20%20%20%20%20%20%20%20%20%20%20%20%5B36.16436%2C%20-86.78378%5D%2C%0A%20%20%20%20%20%20%20%20%20%20%20%20%20%20%20%20%7B%7D%0A%20%20%20%20%20%20%20%20%20%20%20%20%29.addTo%28map_e495d046581445cbadf44f0f628fcbbc%29%3B%0A%20%20%20%20%20%20%20%20%0A%20%20%20%20%0A%20%20%20%20%20%20%20%20%20%20%20%20var%20icon_27255e75f66442ce8b1a5c31d09b9cd1%20%3D%20L.AwesomeMarkers.icon%28%0A%20%20%20%20%20%20%20%20%20%20%20%20%20%20%20%20%7B%22extraClasses%22%3A%20%22fa-rotate-0%22%2C%20%22icon%22%3A%20%22eye%22%2C%20%22iconColor%22%3A%20%22white%22%2C%20%22markerColor%22%3A%20%22purple%22%2C%20%22prefix%22%3A%20%22fa%22%7D%0A%20%20%20%20%20%20%20%20%20%20%20%20%29%3B%0A%20%20%20%20%20%20%20%20%20%20%20%20marker_d047c6a5b6d34cb992d858e1f709adbc.setIcon%28icon_27255e75f66442ce8b1a5c31d09b9cd1%29%3B%0A%20%20%20%20%20%20%20%20%0A%20%20%20%20%0A%20%20%20%20%20%20%20%20%20%20%20%20marker_d047c6a5b6d34cb992d858e1f709adbc.bindTooltip%28%0A%20%20%20%20%20%20%20%20%20%20%20%20%20%20%20%20%60%3Cdiv%3E%0A%20%20%20%20%20%20%20%20%20%20%20%20%20%20%20%20%20%20%20%20%20%28%27Victory%27%2C%20%27Sculpture%27%29%0A%20%20%20%20%20%20%20%20%20%20%20%20%20%20%20%20%20%3C/div%3E%60%2C%0A%20%20%20%20%20%20%20%20%20%20%20%20%20%20%20%20%7B%22sticky%22%3A%20true%7D%0A%20%20%20%20%20%20%20%20%20%20%20%20%29%3B%0A%20%20%20%20%20%20%20%20%0A%20%20%20%20%0A%20%20%20%20%20%20%20%20%20%20%20%20var%20marker_b23fed83beac413d9f57c8a0edf429dd%20%3D%20L.marker%28%0A%20%20%20%20%20%20%20%20%20%20%20%20%20%20%20%20%5B36.16609%2C%20-86.78366%5D%2C%0A%20%20%20%20%20%20%20%20%20%20%20%20%20%20%20%20%7B%7D%0A%20%20%20%20%20%20%20%20%20%20%20%20%29.addTo%28map_e495d046581445cbadf44f0f628fcbbc%29%3B%0A%20%20%20%20%20%20%20%20%0A%20%20%20%20%0A%20%20%20%20%20%20%20%20%20%20%20%20var%20icon_1d3d1623632e4dbab58407088c43f578%20%3D%20L.AwesomeMarkers.icon%28%0A%20%20%20%20%20%20%20%20%20%20%20%20%20%20%20%20%7B%22extraClasses%22%3A%20%22fa-rotate-0%22%2C%20%22icon%22%3A%20%22eye%22%2C%20%22iconColor%22%3A%20%22white%22%2C%20%22markerColor%22%3A%20%22purple%22%2C%20%22prefix%22%3A%20%22fa%22%7D%0A%20%20%20%20%20%20%20%20%20%20%20%20%29%3B%0A%20%20%20%20%20%20%20%20%20%20%20%20marker_b23fed83beac413d9f57c8a0edf429dd.setIcon%28icon_1d3d1623632e4dbab58407088c43f578%29%3B%0A%20%20%20%20%20%20%20%20%0A%20%20%20%20%0A%20%20%20%20%20%20%20%20%20%20%20%20marker_b23fed83beac413d9f57c8a0edf429dd.bindTooltip%28%0A%20%20%20%20%20%20%20%20%20%20%20%20%20%20%20%20%60%3Cdiv%3E%0A%20%20%20%20%20%20%20%20%20%20%20%20%20%20%20%20%20%20%20%20%20%28%27Andrew%20Jackson%27%2C%20%27Sculpture%27%29%0A%20%20%20%20%20%20%20%20%20%20%20%20%20%20%20%20%20%3C/div%3E%60%2C%0A%20%20%20%20%20%20%20%20%20%20%20%20%20%20%20%20%7B%22sticky%22%3A%20true%7D%0A%20%20%20%20%20%20%20%20%20%20%20%20%29%3B%0A%20%20%20%20%20%20%20%20%0A%20%20%20%20%0A%20%20%20%20%20%20%20%20%20%20%20%20var%20marker_b91e2e6c657249ebaa314b182c19f866%20%3D%20L.marker%28%0A%20%20%20%20%20%20%20%20%20%20%20%20%20%20%20%20%5B36.16215%2C%20-86.78205%5D%2C%0A%20%20%20%20%20%20%20%20%20%20%20%20%20%20%20%20%7B%7D%0A%20%20%20%20%20%20%20%20%20%20%20%20%29.addTo%28map_e495d046581445cbadf44f0f628fcbbc%29%3B%0A%20%20%20%20%20%20%20%20%0A%20%20%20%20%0A%20%20%20%20%20%20%20%20%20%20%20%20var%20icon_f8e1b4e3be15496eab7c3bc472aa35df%20%3D%20L.AwesomeMarkers.icon%28%0A%20%20%20%20%20%20%20%20%20%20%20%20%20%20%20%20%7B%22extraClasses%22%3A%20%22fa-rotate-0%22%2C%20%22icon%22%3A%20%22eye%22%2C%20%22iconColor%22%3A%20%22white%22%2C%20%22markerColor%22%3A%20%22purple%22%2C%20%22prefix%22%3A%20%22fa%22%7D%0A%20%20%20%20%20%20%20%20%20%20%20%20%29%3B%0A%20%20%20%20%20%20%20%20%20%20%20%20marker_b91e2e6c657249ebaa314b182c19f866.setIcon%28icon_f8e1b4e3be15496eab7c3bc472aa35df%29%3B%0A%20%20%20%20%20%20%20%20%0A%20%20%20%20%0A%20%20%20%20%20%20%20%20%20%20%20%20marker_b91e2e6c657249ebaa314b182c19f866.bindTooltip%28%0A%20%20%20%20%20%20%20%20%20%20%20%20%20%20%20%20%60%3Cdiv%3E%0A%20%20%20%20%20%20%20%20%20%20%20%20%20%20%20%20%20%20%20%20%20%28%27Library%20Doors%27%2C%20%27Bronzes%27%29%0A%20%20%20%20%20%20%20%20%20%20%20%20%20%20%20%20%20%3C/div%3E%60%2C%0A%20%20%20%20%20%20%20%20%20%20%20%20%20%20%20%20%7B%22sticky%22%3A%20true%7D%0A%20%20%20%20%20%20%20%20%20%20%20%20%29%3B%0A%20%20%20%20%20%20%20%20%0A%20%20%20%20%0A%20%20%20%20%20%20%20%20%20%20%20%20var%20marker_1cf11a479f874899ac16ee73d058e12f%20%3D%20L.marker%28%0A%20%20%20%20%20%20%20%20%20%20%20%20%20%20%20%20%5B36.161327%2C%20-86.778877%5D%2C%0A%20%20%20%20%20%20%20%20%20%20%20%20%20%20%20%20%7B%7D%0A%20%20%20%20%20%20%20%20%20%20%20%20%29.addTo%28map_e495d046581445cbadf44f0f628fcbbc%29%3B%0A%20%20%20%20%20%20%20%20%0A%20%20%20%20%0A%20%20%20%20%20%20%20%20%20%20%20%20var%20icon_7db31b897b8e47a3b1c73b219e215a98%20%3D%20L.AwesomeMarkers.icon%28%0A%20%20%20%20%20%20%20%20%20%20%20%20%20%20%20%20%7B%22extraClasses%22%3A%20%22fa-rotate-0%22%2C%20%22icon%22%3A%20%22eye%22%2C%20%22iconColor%22%3A%20%22white%22%2C%20%22markerColor%22%3A%20%22purple%22%2C%20%22prefix%22%3A%20%22fa%22%7D%0A%20%20%20%20%20%20%20%20%20%20%20%20%29%3B%0A%20%20%20%20%20%20%20%20%20%20%20%20marker_1cf11a479f874899ac16ee73d058e12f.setIcon%28icon_7db31b897b8e47a3b1c73b219e215a98%29%3B%0A%20%20%20%20%20%20%20%20%0A%20%20%20%20%0A%20%20%20%20%20%20%20%20%20%20%20%20marker_1cf11a479f874899ac16ee73d058e12f.bindTooltip%28%0A%20%20%20%20%20%20%20%20%20%20%20%20%20%20%20%20%60%3Cdiv%3E%0A%20%20%20%20%20%20%20%20%20%20%20%20%20%20%20%20%20%20%20%20%20%28%27Beautiful%20Decay%27%2C%20%27Mural%27%29%0A%20%20%20%20%20%20%20%20%20%20%20%20%20%20%20%20%20%3C/div%3E%60%2C%0A%20%20%20%20%20%20%20%20%20%20%20%20%20%20%20%20%7B%22sticky%22%3A%20true%7D%0A%20%20%20%20%20%20%20%20%20%20%20%20%29%3B%0A%20%20%20%20%20%20%20%20%0A%20%20%20%20%0A%20%20%20%20%20%20%20%20%20%20%20%20var%20marker_2f9cbff574d04422ad2c1a0a4e781c82%20%3D%20L.marker%28%0A%20%20%20%20%20%20%20%20%20%20%20%20%20%20%20%20%5B36.16215%2C%20-86.78205%5D%2C%0A%20%20%20%20%20%20%20%20%20%20%20%20%20%20%20%20%7B%7D%0A%20%20%20%20%20%20%20%20%20%20%20%20%29.addTo%28map_e495d046581445cbadf44f0f628fcbbc%29%3B%0A%20%20%20%20%20%20%20%20%0A%20%20%20%20%0A%20%20%20%20%20%20%20%20%20%20%20%20var%20icon_e3338cbe4b724eda989e99c0bc26c01d%20%3D%20L.AwesomeMarkers.icon%28%0A%20%20%20%20%20%20%20%20%20%20%20%20%20%20%20%20%7B%22extraClasses%22%3A%20%22fa-rotate-0%22%2C%20%22icon%22%3A%20%22eye%22%2C%20%22iconColor%22%3A%20%22white%22%2C%20%22markerColor%22%3A%20%22purple%22%2C%20%22prefix%22%3A%20%22fa%22%7D%0A%20%20%20%20%20%20%20%20%20%20%20%20%29%3B%0A%20%20%20%20%20%20%20%20%20%20%20%20marker_2f9cbff574d04422ad2c1a0a4e781c82.setIcon%28icon_e3338cbe4b724eda989e99c0bc26c01d%29%3B%0A%20%20%20%20%20%20%20%20%0A%20%20%20%20%0A%20%20%20%20%20%20%20%20%20%20%20%20marker_2f9cbff574d04422ad2c1a0a4e781c82.bindTooltip%28%0A%20%20%20%20%20%20%20%20%20%20%20%20%20%20%20%20%60%3Cdiv%3E%0A%20%20%20%20%20%20%20%20%20%20%20%20%20%20%20%20%20%20%20%20%20%28%22Children%27s%20Chairs%20For%20The%20Seasons%22%2C%20%27Furniture%27%29%0A%20%20%20%20%20%20%20%20%20%20%20%20%20%20%20%20%20%3C/div%3E%60%2C%0A%20%20%20%20%20%20%20%20%20%20%20%20%20%20%20%20%7B%22sticky%22%3A%20true%7D%0A%20%20%20%20%20%20%20%20%20%20%20%20%29%3B%0A%20%20%20%20%20%20%20%20%0A%20%20%20%20%0A%20%20%20%20%20%20%20%20%20%20%20%20var%20marker_778086fe0f0b4c528b6f5a916207f8aa%20%3D%20L.marker%28%0A%20%20%20%20%20%20%20%20%20%20%20%20%20%20%20%20%5B36.16151%2C%20-86.77816%5D%2C%0A%20%20%20%20%20%20%20%20%20%20%20%20%20%20%20%20%7B%7D%0A%20%20%20%20%20%20%20%20%20%20%20%20%29.addTo%28map_e495d046581445cbadf44f0f628fcbbc%29%3B%0A%20%20%20%20%20%20%20%20%0A%20%20%20%20%0A%20%20%20%20%20%20%20%20%20%20%20%20var%20icon_17e81420a3cf430bb4b0dd873752c092%20%3D%20L.AwesomeMarkers.icon%28%0A%20%20%20%20%20%20%20%20%20%20%20%20%20%20%20%20%7B%22extraClasses%22%3A%20%22fa-rotate-0%22%2C%20%22icon%22%3A%20%22eye%22%2C%20%22iconColor%22%3A%20%22white%22%2C%20%22markerColor%22%3A%20%22purple%22%2C%20%22prefix%22%3A%20%22fa%22%7D%0A%20%20%20%20%20%20%20%20%20%20%20%20%29%3B%0A%20%20%20%20%20%20%20%20%20%20%20%20marker_778086fe0f0b4c528b6f5a916207f8aa.setIcon%28icon_17e81420a3cf430bb4b0dd873752c092%29%3B%0A%20%20%20%20%20%20%20%20%0A%20%20%20%20%0A%20%20%20%20%20%20%20%20%20%20%20%20marker_778086fe0f0b4c528b6f5a916207f8aa.bindTooltip%28%0A%20%20%20%20%20%20%20%20%20%20%20%20%20%20%20%20%60%3Cdiv%3E%0A%20%20%20%20%20%20%20%20%20%20%20%20%20%20%20%20%20%20%20%20%20%28%27Oh%2C%20Roy%27%2C%20%27Sculpture%27%29%0A%20%20%20%20%20%20%20%20%20%20%20%20%20%20%20%20%20%3C/div%3E%60%2C%0A%20%20%20%20%20%20%20%20%20%20%20%20%20%20%20%20%7B%22sticky%22%3A%20true%7D%0A%20%20%20%20%20%20%20%20%20%20%20%20%29%3B%0A%20%20%20%20%20%20%20%20%0A%20%20%20%20%0A%20%20%20%20%20%20%20%20%20%20%20%20var%20marker_8f08f44bd1914380ba562e7446ff8bd8%20%3D%20L.marker%28%0A%20%20%20%20%20%20%20%20%20%20%20%20%20%20%20%20%5B36.16479%2C%20-86.78239%5D%2C%0A%20%20%20%20%20%20%20%20%20%20%20%20%20%20%20%20%7B%7D%0A%20%20%20%20%20%20%20%20%20%20%20%20%29.addTo%28map_e495d046581445cbadf44f0f628fcbbc%29%3B%0A%20%20%20%20%20%20%20%20%0A%20%20%20%20%0A%20%20%20%20%20%20%20%20%20%20%20%20var%20icon_952823e48e0b47b5980c86bd8801120a%20%3D%20L.AwesomeMarkers.icon%28%0A%20%20%20%20%20%20%20%20%20%20%20%20%20%20%20%20%7B%22extraClasses%22%3A%20%22fa-rotate-0%22%2C%20%22icon%22%3A%20%22eye%22%2C%20%22iconColor%22%3A%20%22white%22%2C%20%22markerColor%22%3A%20%22purple%22%2C%20%22prefix%22%3A%20%22fa%22%7D%0A%20%20%20%20%20%20%20%20%20%20%20%20%29%3B%0A%20%20%20%20%20%20%20%20%20%20%20%20marker_8f08f44bd1914380ba562e7446ff8bd8.setIcon%28icon_952823e48e0b47b5980c86bd8801120a%29%3B%0A%20%20%20%20%20%20%20%20%0A%20%20%20%20%0A%20%20%20%20%20%20%20%20%20%20%20%20marker_8f08f44bd1914380ba562e7446ff8bd8.bindTooltip%28%0A%20%20%20%20%20%20%20%20%20%20%20%20%20%20%20%20%60%3Cdiv%3E%0A%20%20%20%20%20%20%20%20%20%20%20%20%20%20%20%20%20%20%20%20%20%28%27Tennessee%20Falls%27%2C%20%27Sculpture%27%29%0A%20%20%20%20%20%20%20%20%20%20%20%20%20%20%20%20%20%3C/div%3E%60%2C%0A%20%20%20%20%20%20%20%20%20%20%20%20%20%20%20%20%7B%22sticky%22%3A%20true%7D%0A%20%20%20%20%20%20%20%20%20%20%20%20%29%3B%0A%20%20%20%20%20%20%20%20%0A%20%20%20%20%0A%20%20%20%20%20%20%20%20%20%20%20%20var%20marker_4fa39d4cb12d428ca65045ecceb0e2df%20%3D%20L.marker%28%0A%20%20%20%20%20%20%20%20%20%20%20%20%20%20%20%20%5B36.16156%2C%20-86.77789%5D%2C%0A%20%20%20%20%20%20%20%20%20%20%20%20%20%20%20%20%7B%7D%0A%20%20%20%20%20%20%20%20%20%20%20%20%29.addTo%28map_e495d046581445cbadf44f0f628fcbbc%29%3B%0A%20%20%20%20%20%20%20%20%0A%20%20%20%20%0A%20%20%20%20%20%20%20%20%20%20%20%20var%20icon_6e8248c4d1cc4c8fac1f02e16a9fad11%20%3D%20L.AwesomeMarkers.icon%28%0A%20%20%20%20%20%20%20%20%20%20%20%20%20%20%20%20%7B%22extraClasses%22%3A%20%22fa-rotate-0%22%2C%20%22icon%22%3A%20%22eye%22%2C%20%22iconColor%22%3A%20%22white%22%2C%20%22markerColor%22%3A%20%22purple%22%2C%20%22prefix%22%3A%20%22fa%22%7D%0A%20%20%20%20%20%20%20%20%20%20%20%20%29%3B%0A%20%20%20%20%20%20%20%20%20%20%20%20marker_4fa39d4cb12d428ca65045ecceb0e2df.setIcon%28icon_6e8248c4d1cc4c8fac1f02e16a9fad11%29%3B%0A%20%20%20%20%20%20%20%20%0A%20%20%20%20%0A%20%20%20%20%20%20%20%20%20%20%20%20marker_4fa39d4cb12d428ca65045ecceb0e2df.bindTooltip%28%0A%20%20%20%20%20%20%20%20%20%20%20%20%20%20%20%20%60%3Cdiv%3E%0A%20%20%20%20%20%20%20%20%20%20%20%20%20%20%20%20%20%20%20%20%20%28%27Thomas%20Gleen%20Ryman%27%2C%20%27Sculpture%27%29%0A%20%20%20%20%20%20%20%20%20%20%20%20%20%20%20%20%20%3C/div%3E%60%2C%0A%20%20%20%20%20%20%20%20%20%20%20%20%20%20%20%20%7B%22sticky%22%3A%20true%7D%0A%20%20%20%20%20%20%20%20%20%20%20%20%29%3B%0A%20%20%20%20%20%20%20%20%0A%20%20%20%20%0A%20%20%20%20%20%20%20%20%20%20%20%20var%20marker_7a90c3a47c15463980324918dd0d329f%20%3D%20L.marker%28%0A%20%20%20%20%20%20%20%20%20%20%20%20%20%20%20%20%5B36.16388%2C%20-86.78333%5D%2C%0A%20%20%20%20%20%20%20%20%20%20%20%20%20%20%20%20%7B%7D%0A%20%20%20%20%20%20%20%20%20%20%20%20%29.addTo%28map_e495d046581445cbadf44f0f628fcbbc%29%3B%0A%20%20%20%20%20%20%20%20%0A%20%20%20%20%0A%20%20%20%20%20%20%20%20%20%20%20%20var%20icon_2a7a0efb71bd49538a7d9717a7b6a086%20%3D%20L.AwesomeMarkers.icon%28%0A%20%20%20%20%20%20%20%20%20%20%20%20%20%20%20%20%7B%22extraClasses%22%3A%20%22fa-rotate-0%22%2C%20%22icon%22%3A%20%22eye%22%2C%20%22iconColor%22%3A%20%22white%22%2C%20%22markerColor%22%3A%20%22purple%22%2C%20%22prefix%22%3A%20%22fa%22%7D%0A%20%20%20%20%20%20%20%20%20%20%20%20%29%3B%0A%20%20%20%20%20%20%20%20%20%20%20%20marker_7a90c3a47c15463980324918dd0d329f.setIcon%28icon_2a7a0efb71bd49538a7d9717a7b6a086%29%3B%0A%20%20%20%20%20%20%20%20%0A%20%20%20%20%0A%20%20%20%20%20%20%20%20%20%20%20%20marker_7a90c3a47c15463980324918dd0d329f.bindTooltip%28%0A%20%20%20%20%20%20%20%20%20%20%20%20%20%20%20%20%60%3Cdiv%3E%0A%20%20%20%20%20%20%20%20%20%20%20%20%20%20%20%20%20%20%20%20%20%28%22Tennessee%20Vietnam%20Veteran%27s%20Memorial%22%2C%20%27Sculpture%27%29%0A%20%20%20%20%20%20%20%20%20%20%20%20%20%20%20%20%20%3C/div%3E%60%2C%0A%20%20%20%20%20%20%20%20%20%20%20%20%20%20%20%20%7B%22sticky%22%3A%20true%7D%0A%20%20%20%20%20%20%20%20%20%20%20%20%29%3B%0A%20%20%20%20%20%20%20%20%0A%20%20%20%20%0A%20%20%20%20%20%20%20%20%20%20%20%20var%20marker_64db44b1dff440f78b8ac5a1a920d312%20%3D%20L.marker%28%0A%20%20%20%20%20%20%20%20%20%20%20%20%20%20%20%20%5B36.16215%2C%20-86.78205%5D%2C%0A%20%20%20%20%20%20%20%20%20%20%20%20%20%20%20%20%7B%7D%0A%20%20%20%20%20%20%20%20%20%20%20%20%29.addTo%28map_e495d046581445cbadf44f0f628fcbbc%29%3B%0A%20%20%20%20%20%20%20%20%0A%20%20%20%20%0A%20%20%20%20%20%20%20%20%20%20%20%20var%20icon_ac32e761c8274ac3984d2518a4c76322%20%3D%20L.AwesomeMarkers.icon%28%0A%20%20%20%20%20%20%20%20%20%20%20%20%20%20%20%20%7B%22extraClasses%22%3A%20%22fa-rotate-0%22%2C%20%22icon%22%3A%20%22eye%22%2C%20%22iconColor%22%3A%20%22white%22%2C%20%22markerColor%22%3A%20%22purple%22%2C%20%22prefix%22%3A%20%22fa%22%7D%0A%20%20%20%20%20%20%20%20%20%20%20%20%29%3B%0A%20%20%20%20%20%20%20%20%20%20%20%20marker_64db44b1dff440f78b8ac5a1a920d312.setIcon%28icon_ac32e761c8274ac3984d2518a4c76322%29%3B%0A%20%20%20%20%20%20%20%20%0A%20%20%20%20%0A%20%20%20%20%20%20%20%20%20%20%20%20marker_64db44b1dff440f78b8ac5a1a920d312.bindTooltip%28%0A%20%20%20%20%20%20%20%20%20%20%20%20%20%20%20%20%60%3Cdiv%3E%0A%20%20%20%20%20%20%20%20%20%20%20%20%20%20%20%20%20%20%20%20%20%28%27La%20Storia%20della%20Terra%27%2C%20%27Sculpture%27%29%0A%20%20%20%20%20%20%20%20%20%20%20%20%20%20%20%20%20%3C/div%3E%60%2C%0A%20%20%20%20%20%20%20%20%20%20%20%20%20%20%20%20%7B%22sticky%22%3A%20true%7D%0A%20%20%20%20%20%20%20%20%20%20%20%20%29%3B%0A%20%20%20%20%20%20%20%20%0A%20%20%20%20%0A%20%20%20%20%20%20%20%20%20%20%20%20var%20marker_9f1f63d1bcf0440db6199dc96059a0ff%20%3D%20L.marker%28%0A%20%20%20%20%20%20%20%20%20%20%20%20%20%20%20%20%5B36.16369%2C%20-86.78358%5D%2C%0A%20%20%20%20%20%20%20%20%20%20%20%20%20%20%20%20%7B%7D%0A%20%20%20%20%20%20%20%20%20%20%20%20%29.addTo%28map_e495d046581445cbadf44f0f628fcbbc%29%3B%0A%20%20%20%20%20%20%20%20%0A%20%20%20%20%0A%20%20%20%20%20%20%20%20%20%20%20%20var%20icon_d1aa80c7d9f14f2ab492f4f34dc1fb33%20%3D%20L.AwesomeMarkers.icon%28%0A%20%20%20%20%20%20%20%20%20%20%20%20%20%20%20%20%7B%22extraClasses%22%3A%20%22fa-rotate-0%22%2C%20%22icon%22%3A%20%22eye%22%2C%20%22iconColor%22%3A%20%22white%22%2C%20%22markerColor%22%3A%20%22purple%22%2C%20%22prefix%22%3A%20%22fa%22%7D%0A%20%20%20%20%20%20%20%20%20%20%20%20%29%3B%0A%20%20%20%20%20%20%20%20%20%20%20%20marker_9f1f63d1bcf0440db6199dc96059a0ff.setIcon%28icon_d1aa80c7d9f14f2ab492f4f34dc1fb33%29%3B%0A%20%20%20%20%20%20%20%20%0A%20%20%20%20%0A%20%20%20%20%20%20%20%20%20%20%20%20marker_9f1f63d1bcf0440db6199dc96059a0ff.bindTooltip%28%0A%20%20%20%20%20%20%20%20%20%20%20%20%20%20%20%20%60%3Cdiv%3E%0A%20%20%20%20%20%20%20%20%20%20%20%20%20%20%20%20%20%20%20%20%20%28%22Tennessee%20Confederate%20Women%27s%20Memorial%22%2C%20%27Sculpture%27%29%0A%20%20%20%20%20%20%20%20%20%20%20%20%20%20%20%20%20%3C/div%3E%60%2C%0A%20%20%20%20%20%20%20%20%20%20%20%20%20%20%20%20%7B%22sticky%22%3A%20true%7D%0A%20%20%20%20%20%20%20%20%20%20%20%20%29%3B%0A%20%20%20%20%20%20%20%20%0A%20%20%20%20%0A%20%20%20%20%20%20%20%20%20%20%20%20var%20marker_7929e4376cb44534a0466fea608adabb%20%3D%20L.marker%28%0A%20%20%20%20%20%20%20%20%20%20%20%20%20%20%20%20%5B36.16669%2C%20-86.78322%5D%2C%0A%20%20%20%20%20%20%20%20%20%20%20%20%20%20%20%20%7B%7D%0A%20%20%20%20%20%20%20%20%20%20%20%20%29.addTo%28map_e495d046581445cbadf44f0f628fcbbc%29%3B%0A%20%20%20%20%20%20%20%20%0A%20%20%20%20%0A%20%20%20%20%20%20%20%20%20%20%20%20var%20icon_517139f0290b4c789e6298e838ffcba4%20%3D%20L.AwesomeMarkers.icon%28%0A%20%20%20%20%20%20%20%20%20%20%20%20%20%20%20%20%7B%22extraClasses%22%3A%20%22fa-rotate-0%22%2C%20%22icon%22%3A%20%22eye%22%2C%20%22iconColor%22%3A%20%22white%22%2C%20%22markerColor%22%3A%20%22purple%22%2C%20%22prefix%22%3A%20%22fa%22%7D%0A%20%20%20%20%20%20%20%20%20%20%20%20%29%3B%0A%20%20%20%20%20%20%20%20%20%20%20%20marker_7929e4376cb44534a0466fea608adabb.setIcon%28icon_517139f0290b4c789e6298e838ffcba4%29%3B%0A%20%20%20%20%20%20%20%20%0A%20%20%20%20%0A%20%20%20%20%20%20%20%20%20%20%20%20marker_7929e4376cb44534a0466fea608adabb.bindTooltip%28%0A%20%20%20%20%20%20%20%20%20%20%20%20%20%20%20%20%60%3Cdiv%3E%0A%20%20%20%20%20%20%20%20%20%20%20%20%20%20%20%20%20%20%20%20%20%28%27Pioneer%20Family%20-%20The%20Mountain%20Group%27%2C%20%27Sculpture%27%29%0A%20%20%20%20%20%20%20%20%20%20%20%20%20%20%20%20%20%3C/div%3E%60%2C%0A%20%20%20%20%20%20%20%20%20%20%20%20%20%20%20%20%7B%22sticky%22%3A%20true%7D%0A%20%20%20%20%20%20%20%20%20%20%20%20%29%3B%0A%20%20%20%20%20%20%20%20%0A%20%20%20%20%0A%20%20%20%20%20%20%20%20%20%20%20%20var%20marker_a3046437070a48e49df4ffa6f98d4882%20%3D%20L.marker%28%0A%20%20%20%20%20%20%20%20%20%20%20%20%20%20%20%20%5B36.16298%2C%20-86.78184%5D%2C%0A%20%20%20%20%20%20%20%20%20%20%20%20%20%20%20%20%7B%7D%0A%20%20%20%20%20%20%20%20%20%20%20%20%29.addTo%28map_e495d046581445cbadf44f0f628fcbbc%29%3B%0A%20%20%20%20%20%20%20%20%0A%20%20%20%20%0A%20%20%20%20%20%20%20%20%20%20%20%20var%20icon_58dc3d3786b249aaa2b6141493cf3ea3%20%3D%20L.AwesomeMarkers.icon%28%0A%20%20%20%20%20%20%20%20%20%20%20%20%20%20%20%20%7B%22extraClasses%22%3A%20%22fa-rotate-0%22%2C%20%22icon%22%3A%20%22eye%22%2C%20%22iconColor%22%3A%20%22white%22%2C%20%22markerColor%22%3A%20%22purple%22%2C%20%22prefix%22%3A%20%22fa%22%7D%0A%20%20%20%20%20%20%20%20%20%20%20%20%29%3B%0A%20%20%20%20%20%20%20%20%20%20%20%20marker_a3046437070a48e49df4ffa6f98d4882.setIcon%28icon_58dc3d3786b249aaa2b6141493cf3ea3%29%3B%0A%20%20%20%20%20%20%20%20%0A%20%20%20%20%0A%20%20%20%20%20%20%20%20%20%20%20%20marker_a3046437070a48e49df4ffa6f98d4882.bindTooltip%28%0A%20%20%20%20%20%20%20%20%20%20%20%20%20%20%20%20%60%3Cdiv%3E%0A%20%20%20%20%20%20%20%20%20%20%20%20%20%20%20%20%20%20%20%20%20%28%27Gone%20Fishing%27%2C%20%27Mural%27%29%0A%20%20%20%20%20%20%20%20%20%20%20%20%20%20%20%20%20%3C/div%3E%60%2C%0A%20%20%20%20%20%20%20%20%20%20%20%20%20%20%20%20%7B%22sticky%22%3A%20true%7D%0A%20%20%20%20%20%20%20%20%20%20%20%20%29%3B%0A%20%20%20%20%20%20%20%20%0A%20%20%20%20%0A%20%20%20%20%20%20%20%20%20%20%20%20var%20marker_61e610b1ac85451ca70fdd70f46d3ad9%20%3D%20L.marker%28%0A%20%20%20%20%20%20%20%20%20%20%20%20%20%20%20%20%5B36.164813%2C%20-86.781138%5D%2C%0A%20%20%20%20%20%20%20%20%20%20%20%20%20%20%20%20%7B%7D%0A%20%20%20%20%20%20%20%20%20%20%20%20%29.addTo%28map_e495d046581445cbadf44f0f628fcbbc%29%3B%0A%20%20%20%20%20%20%20%20%0A%20%20%20%20%0A%20%20%20%20%20%20%20%20%20%20%20%20var%20icon_7dc03ffff5cd41658571f6c7324380aa%20%3D%20L.AwesomeMarkers.icon%28%0A%20%20%20%20%20%20%20%20%20%20%20%20%20%20%20%20%7B%22extraClasses%22%3A%20%22fa-rotate-0%22%2C%20%22icon%22%3A%20%22eye%22%2C%20%22iconColor%22%3A%20%22white%22%2C%20%22markerColor%22%3A%20%22purple%22%2C%20%22prefix%22%3A%20%22fa%22%7D%0A%20%20%20%20%20%20%20%20%20%20%20%20%29%3B%0A%20%20%20%20%20%20%20%20%20%20%20%20marker_61e610b1ac85451ca70fdd70f46d3ad9.setIcon%28icon_7dc03ffff5cd41658571f6c7324380aa%29%3B%0A%20%20%20%20%20%20%20%20%0A%20%20%20%20%0A%20%20%20%20%20%20%20%20%20%20%20%20marker_61e610b1ac85451ca70fdd70f46d3ad9.bindTooltip%28%0A%20%20%20%20%20%20%20%20%20%20%20%20%20%20%20%20%60%3Cdiv%3E%0A%20%20%20%20%20%20%20%20%20%20%20%20%20%20%20%20%20%20%20%20%20%28%27As%20Long%20As%20The%20Grass%20Shall%20Grow%27%2C%20%27Mural%27%29%0A%20%20%20%20%20%20%20%20%20%20%20%20%20%20%20%20%20%3C/div%3E%60%2C%0A%20%20%20%20%20%20%20%20%20%20%20%20%20%20%20%20%7B%22sticky%22%3A%20true%7D%0A%20%20%20%20%20%20%20%20%20%20%20%20%29%3B%0A%20%20%20%20%20%20%20%20%0A%20%20%20%20%0A%20%20%20%20%20%20%20%20%20%20%20%20var%20marker_b2a2e9c991a74f0baf53d298b45fe9ae%20%3D%20L.marker%28%0A%20%20%20%20%20%20%20%20%20%20%20%20%20%20%20%20%5B36.16732%2C%20-86.78365%5D%2C%0A%20%20%20%20%20%20%20%20%20%20%20%20%20%20%20%20%7B%7D%0A%20%20%20%20%20%20%20%20%20%20%20%20%29.addTo%28map_e495d046581445cbadf44f0f628fcbbc%29%3B%0A%20%20%20%20%20%20%20%20%0A%20%20%20%20%0A%20%20%20%20%20%20%20%20%20%20%20%20var%20icon_959afc6c67da447f9e30aa76210dae26%20%3D%20L.AwesomeMarkers.icon%28%0A%20%20%20%20%20%20%20%20%20%20%20%20%20%20%20%20%7B%22extraClasses%22%3A%20%22fa-rotate-0%22%2C%20%22icon%22%3A%20%22eye%22%2C%20%22iconColor%22%3A%20%22white%22%2C%20%22markerColor%22%3A%20%22purple%22%2C%20%22prefix%22%3A%20%22fa%22%7D%0A%20%20%20%20%20%20%20%20%20%20%20%20%29%3B%0A%20%20%20%20%20%20%20%20%20%20%20%20marker_b2a2e9c991a74f0baf53d298b45fe9ae.setIcon%28icon_959afc6c67da447f9e30aa76210dae26%29%3B%0A%20%20%20%20%20%20%20%20%0A%20%20%20%20%0A%20%20%20%20%20%20%20%20%20%20%20%20marker_b2a2e9c991a74f0baf53d298b45fe9ae.bindTooltip%28%0A%20%20%20%20%20%20%20%20%20%20%20%20%20%20%20%20%60%3Cdiv%3E%0A%20%20%20%20%20%20%20%20%20%20%20%20%20%20%20%20%20%20%20%20%20%28%27The%20Three%20Graces%27%2C%20%27Sculpture%27%29%0A%20%20%20%20%20%20%20%20%20%20%20%20%20%20%20%20%20%3C/div%3E%60%2C%0A%20%20%20%20%20%20%20%20%20%20%20%20%20%20%20%20%7B%22sticky%22%3A%20true%7D%0A%20%20%20%20%20%20%20%20%20%20%20%20%29%3B%0A%20%20%20%20%20%20%20%20%0A%20%20%20%20%0A%20%20%20%20%20%20%20%20%20%20%20%20var%20marker_80130bc5b77b4f7fb50023e055872dc5%20%3D%20L.marker%28%0A%20%20%20%20%20%20%20%20%20%20%20%20%20%20%20%20%5B36.16607%2C%20-86.78455%5D%2C%0A%20%20%20%20%20%20%20%20%20%20%20%20%20%20%20%20%7B%7D%0A%20%20%20%20%20%20%20%20%20%20%20%20%29.addTo%28map_e495d046581445cbadf44f0f628fcbbc%29%3B%0A%20%20%20%20%20%20%20%20%0A%20%20%20%20%0A%20%20%20%20%20%20%20%20%20%20%20%20var%20icon_f5f6bccd81584016983d0f6853f65379%20%3D%20L.AwesomeMarkers.icon%28%0A%20%20%20%20%20%20%20%20%20%20%20%20%20%20%20%20%7B%22extraClasses%22%3A%20%22fa-rotate-0%22%2C%20%22icon%22%3A%20%22eye%22%2C%20%22iconColor%22%3A%20%22white%22%2C%20%22markerColor%22%3A%20%22purple%22%2C%20%22prefix%22%3A%20%22fa%22%7D%0A%20%20%20%20%20%20%20%20%20%20%20%20%29%3B%0A%20%20%20%20%20%20%20%20%20%20%20%20marker_80130bc5b77b4f7fb50023e055872dc5.setIcon%28icon_f5f6bccd81584016983d0f6853f65379%29%3B%0A%20%20%20%20%20%20%20%20%0A%20%20%20%20%0A%20%20%20%20%20%20%20%20%20%20%20%20marker_80130bc5b77b4f7fb50023e055872dc5.bindTooltip%28%0A%20%20%20%20%20%20%20%20%20%20%20%20%20%20%20%20%60%3Cdiv%3E%0A%20%20%20%20%20%20%20%20%20%20%20%20%20%20%20%20%20%20%20%20%20%28%27Discovery%20of%20Tennessee/%20Developemnt%20of%20Tennessee%27%2C%20%27Mural%27%29%0A%20%20%20%20%20%20%20%20%20%20%20%20%20%20%20%20%20%3C/div%3E%60%2C%0A%20%20%20%20%20%20%20%20%20%20%20%20%20%20%20%20%7B%22sticky%22%3A%20true%7D%0A%20%20%20%20%20%20%20%20%20%20%20%20%29%3B%0A%20%20%20%20%20%20%20%20%0A%20%20%20%20%0A%20%20%20%20%20%20%20%20%20%20%20%20var%20marker_b3c903f2c93148348cf555940eb71a2a%20%3D%20L.marker%28%0A%20%20%20%20%20%20%20%20%20%20%20%20%20%20%20%20%5B36.16702%2C%20-86.78343%5D%2C%0A%20%20%20%20%20%20%20%20%20%20%20%20%20%20%20%20%7B%7D%0A%20%20%20%20%20%20%20%20%20%20%20%20%29.addTo%28map_e495d046581445cbadf44f0f628fcbbc%29%3B%0A%20%20%20%20%20%20%20%20%0A%20%20%20%20%0A%20%20%20%20%20%20%20%20%20%20%20%20var%20icon_6abe879976714e13bd2dc512c1122eee%20%3D%20L.AwesomeMarkers.icon%28%0A%20%20%20%20%20%20%20%20%20%20%20%20%20%20%20%20%7B%22extraClasses%22%3A%20%22fa-rotate-0%22%2C%20%22icon%22%3A%20%22eye%22%2C%20%22iconColor%22%3A%20%22white%22%2C%20%22markerColor%22%3A%20%22purple%22%2C%20%22prefix%22%3A%20%22fa%22%7D%0A%20%20%20%20%20%20%20%20%20%20%20%20%29%3B%0A%20%20%20%20%20%20%20%20%20%20%20%20marker_b3c903f2c93148348cf555940eb71a2a.setIcon%28icon_6abe879976714e13bd2dc512c1122eee%29%3B%0A%20%20%20%20%20%20%20%20%0A%20%20%20%20%0A%20%20%20%20%20%20%20%20%20%20%20%20marker_b3c903f2c93148348cf555940eb71a2a.bindTooltip%28%0A%20%20%20%20%20%20%20%20%20%20%20%20%20%20%20%20%60%3Cdiv%3E%0A%20%20%20%20%20%20%20%20%20%20%20%20%20%20%20%20%20%20%20%20%20%28%27Soldier%20and%20Farmer%20-%20The%20Equestrian%20Group%27%2C%20%27Sculpture%27%29%0A%20%20%20%20%20%20%20%20%20%20%20%20%20%20%20%20%20%3C/div%3E%60%2C%0A%20%20%20%20%20%20%20%20%20%20%20%20%20%20%20%20%7B%22sticky%22%3A%20true%7D%0A%20%20%20%20%20%20%20%20%20%20%20%20%29%3B%0A%20%20%20%20%20%20%20%20%0A%20%20%20%20%0A%20%20%20%20%20%20%20%20%20%20%20%20var%20marker_4519e89bea7a453b8f99cf877c7d04cd%20%3D%20L.marker%28%0A%20%20%20%20%20%20%20%20%20%20%20%20%20%20%20%20%5B36.17317%2C%20-86.78512%5D%2C%0A%20%20%20%20%20%20%20%20%20%20%20%20%20%20%20%20%7B%7D%0A%20%20%20%20%20%20%20%20%20%20%20%20%29.addTo%28map_e495d046581445cbadf44f0f628fcbbc%29%3B%0A%20%20%20%20%20%20%20%20%0A%20%20%20%20%0A%20%20%20%20%20%20%20%20%20%20%20%20var%20icon_ff0642f96fac46ada1bbdbefbdfad3c5%20%3D%20L.AwesomeMarkers.icon%28%0A%20%20%20%20%20%20%20%20%20%20%20%20%20%20%20%20%7B%22extraClasses%22%3A%20%22fa-rotate-0%22%2C%20%22icon%22%3A%20%22eye%22%2C%20%22iconColor%22%3A%20%22white%22%2C%20%22markerColor%22%3A%20%22purple%22%2C%20%22prefix%22%3A%20%22fa%22%7D%0A%20%20%20%20%20%20%20%20%20%20%20%20%29%3B%0A%20%20%20%20%20%20%20%20%20%20%20%20marker_4519e89bea7a453b8f99cf877c7d04cd.setIcon%28icon_ff0642f96fac46ada1bbdbefbdfad3c5%29%3B%0A%20%20%20%20%20%20%20%20%0A%20%20%20%20%0A%20%20%20%20%20%20%20%20%20%20%20%20marker_4519e89bea7a453b8f99cf877c7d04cd.bindTooltip%28%0A%20%20%20%20%20%20%20%20%20%20%20%20%20%20%20%20%60%3Cdiv%3E%0A%20%20%20%20%20%20%20%20%20%20%20%20%20%20%20%20%20%20%20%20%20%28%27First%20Tennessee%20Park%20Mural%27%2C%20%27Mural%27%29%0A%20%20%20%20%20%20%20%20%20%20%20%20%20%20%20%20%20%3C/div%3E%60%2C%0A%20%20%20%20%20%20%20%20%20%20%20%20%20%20%20%20%7B%22sticky%22%3A%20true%7D%0A%20%20%20%20%20%20%20%20%20%20%20%20%29%3B%0A%20%20%20%20%20%20%20%20%0A%20%20%20%20%0A%20%20%20%20%20%20%20%20%20%20%20%20var%20marker_5d7b3d5b6ba546d5ad3a8b91458c5a69%20%3D%20L.marker%28%0A%20%20%20%20%20%20%20%20%20%20%20%20%20%20%20%20%5B36.16215%2C%20-86.78205%5D%2C%0A%20%20%20%20%20%20%20%20%20%20%20%20%20%20%20%20%7B%7D%0A%20%20%20%20%20%20%20%20%20%20%20%20%29.addTo%28map_e495d046581445cbadf44f0f628fcbbc%29%3B%0A%20%20%20%20%20%20%20%20%0A%20%20%20%20%0A%20%20%20%20%20%20%20%20%20%20%20%20var%20icon_ae65d32c7f4641df8c5fcffe4c971062%20%3D%20L.AwesomeMarkers.icon%28%0A%20%20%20%20%20%20%20%20%20%20%20%20%20%20%20%20%7B%22extraClasses%22%3A%20%22fa-rotate-0%22%2C%20%22icon%22%3A%20%22eye%22%2C%20%22iconColor%22%3A%20%22white%22%2C%20%22markerColor%22%3A%20%22purple%22%2C%20%22prefix%22%3A%20%22fa%22%7D%0A%20%20%20%20%20%20%20%20%20%20%20%20%29%3B%0A%20%20%20%20%20%20%20%20%20%20%20%20marker_5d7b3d5b6ba546d5ad3a8b91458c5a69.setIcon%28icon_ae65d32c7f4641df8c5fcffe4c971062%29%3B%0A%20%20%20%20%20%20%20%20%0A%20%20%20%20%0A%20%20%20%20%20%20%20%20%20%20%20%20marker_5d7b3d5b6ba546d5ad3a8b91458c5a69.bindTooltip%28%0A%20%20%20%20%20%20%20%20%20%20%20%20%20%20%20%20%60%3Cdiv%3E%0A%20%20%20%20%20%20%20%20%20%20%20%20%20%20%20%20%20%20%20%20%20%28%27A%20Story%20of%20Nashville%27%2C%20%27Frieze%27%29%0A%20%20%20%20%20%20%20%20%20%20%20%20%20%20%20%20%20%3C/div%3E%60%2C%0A%20%20%20%20%20%20%20%20%20%20%20%20%20%20%20%20%7B%22sticky%22%3A%20true%7D%0A%20%20%20%20%20%20%20%20%20%20%20%20%29%3B%0A%20%20%20%20%20%20%20%20%0A%20%20%20%20%0A%20%20%20%20%20%20%20%20%20%20%20%20var%20marker_a8e93c8e82fa4697885b93af91e51ca0%20%3D%20L.marker%28%0A%20%20%20%20%20%20%20%20%20%20%20%20%20%20%20%20%5B36.1647%2C%20-86.78043%5D%2C%0A%20%20%20%20%20%20%20%20%20%20%20%20%20%20%20%20%7B%7D%0A%20%20%20%20%20%20%20%20%20%20%20%20%29.addTo%28map_e495d046581445cbadf44f0f628fcbbc%29%3B%0A%20%20%20%20%20%20%20%20%0A%20%20%20%20%0A%20%20%20%20%20%20%20%20%20%20%20%20var%20icon_b13c6e3977294b6582863da23fa77c97%20%3D%20L.AwesomeMarkers.icon%28%0A%20%20%20%20%20%20%20%20%20%20%20%20%20%20%20%20%7B%22extraClasses%22%3A%20%22fa-rotate-0%22%2C%20%22icon%22%3A%20%22eye%22%2C%20%22iconColor%22%3A%20%22white%22%2C%20%22markerColor%22%3A%20%22purple%22%2C%20%22prefix%22%3A%20%22fa%22%7D%0A%20%20%20%20%20%20%20%20%20%20%20%20%29%3B%0A%20%20%20%20%20%20%20%20%20%20%20%20marker_a8e93c8e82fa4697885b93af91e51ca0.setIcon%28icon_b13c6e3977294b6582863da23fa77c97%29%3B%0A%20%20%20%20%20%20%20%20%0A%20%20%20%20%0A%20%20%20%20%20%20%20%20%20%20%20%20marker_a8e93c8e82fa4697885b93af91e51ca0.bindTooltip%28%0A%20%20%20%20%20%20%20%20%20%20%20%20%20%20%20%20%60%3Cdiv%3E%0A%20%20%20%20%20%20%20%20%20%20%20%20%20%20%20%20%20%20%20%20%20%28%27Happy%20Times%20at%20The%20Arcade%27%2C%20%27Mural%27%29%0A%20%20%20%20%20%20%20%20%20%20%20%20%20%20%20%20%20%3C/div%3E%60%2C%0A%20%20%20%20%20%20%20%20%20%20%20%20%20%20%20%20%7B%22sticky%22%3A%20true%7D%0A%20%20%20%20%20%20%20%20%20%20%20%20%29%3B%0A%20%20%20%20%20%20%20%20%0A%20%20%20%20%0A%20%20%20%20%20%20%20%20%20%20%20%20var%20marker_d37e2a24a9fe41bf91f286c2ee2fc9ce%20%3D%20L.marker%28%0A%20%20%20%20%20%20%20%20%20%20%20%20%20%20%20%20%5B36.16215%2C%20-86.78205%5D%2C%0A%20%20%20%20%20%20%20%20%20%20%20%20%20%20%20%20%7B%7D%0A%20%20%20%20%20%20%20%20%20%20%20%20%29.addTo%28map_e495d046581445cbadf44f0f628fcbbc%29%3B%0A%20%20%20%20%20%20%20%20%0A%20%20%20%20%0A%20%20%20%20%20%20%20%20%20%20%20%20var%20icon_3772ea9b626b4bba893b0bdfd9628416%20%3D%20L.AwesomeMarkers.icon%28%0A%20%20%20%20%20%20%20%20%20%20%20%20%20%20%20%20%7B%22extraClasses%22%3A%20%22fa-rotate-0%22%2C%20%22icon%22%3A%20%22eye%22%2C%20%22iconColor%22%3A%20%22white%22%2C%20%22markerColor%22%3A%20%22purple%22%2C%20%22prefix%22%3A%20%22fa%22%7D%0A%20%20%20%20%20%20%20%20%20%20%20%20%29%3B%0A%20%20%20%20%20%20%20%20%20%20%20%20marker_d37e2a24a9fe41bf91f286c2ee2fc9ce.setIcon%28icon_3772ea9b626b4bba893b0bdfd9628416%29%3B%0A%20%20%20%20%20%20%20%20%0A%20%20%20%20%0A%20%20%20%20%20%20%20%20%20%20%20%20marker_d37e2a24a9fe41bf91f286c2ee2fc9ce.bindTooltip%28%0A%20%20%20%20%20%20%20%20%20%20%20%20%20%20%20%20%60%3Cdiv%3E%0A%20%20%20%20%20%20%20%20%20%20%20%20%20%20%20%20%20%20%20%20%20%28%27The%20Prince%27%2C%20%27Mobile%27%29%0A%20%20%20%20%20%20%20%20%20%20%20%20%20%20%20%20%20%3C/div%3E%60%2C%0A%20%20%20%20%20%20%20%20%20%20%20%20%20%20%20%20%7B%22sticky%22%3A%20true%7D%0A%20%20%20%20%20%20%20%20%20%20%20%20%29%3B%0A%20%20%20%20%20%20%20%20%0A%20%20%20%20%0A%20%20%20%20%20%20%20%20%20%20%20%20var%20marker_cde592a5aa2a4a7590bf8b7c5b444af6%20%3D%20L.marker%28%0A%20%20%20%20%20%20%20%20%20%20%20%20%20%20%20%20%5B36.1651%2C%20-86.78427%5D%2C%0A%20%20%20%20%20%20%20%20%20%20%20%20%20%20%20%20%7B%7D%0A%20%20%20%20%20%20%20%20%20%20%20%20%29.addTo%28map_e495d046581445cbadf44f0f628fcbbc%29%3B%0A%20%20%20%20%20%20%20%20%0A%20%20%20%20%0A%20%20%20%20%20%20%20%20%20%20%20%20var%20icon_3e9ce96a8f364b3c8486d9f713add369%20%3D%20L.AwesomeMarkers.icon%28%0A%20%20%20%20%20%20%20%20%20%20%20%20%20%20%20%20%7B%22extraClasses%22%3A%20%22fa-rotate-0%22%2C%20%22icon%22%3A%20%22eye%22%2C%20%22iconColor%22%3A%20%22white%22%2C%20%22markerColor%22%3A%20%22purple%22%2C%20%22prefix%22%3A%20%22fa%22%7D%0A%20%20%20%20%20%20%20%20%20%20%20%20%29%3B%0A%20%20%20%20%20%20%20%20%20%20%20%20marker_cde592a5aa2a4a7590bf8b7c5b444af6.setIcon%28icon_3e9ce96a8f364b3c8486d9f713add369%29%3B%0A%20%20%20%20%20%20%20%20%0A%20%20%20%20%0A%20%20%20%20%20%20%20%20%20%20%20%20marker_cde592a5aa2a4a7590bf8b7c5b444af6.bindTooltip%28%0A%20%20%20%20%20%20%20%20%20%20%20%20%20%20%20%20%60%3Cdiv%3E%0A%20%20%20%20%20%20%20%20%20%20%20%20%20%20%20%20%20%20%20%20%20%28%27Sam%20Davis%20of%20Tennessee%27%2C%20%27Sculpture%27%29%0A%20%20%20%20%20%20%20%20%20%20%20%20%20%20%20%20%20%3C/div%3E%60%2C%0A%20%20%20%20%20%20%20%20%20%20%20%20%20%20%20%20%7B%22sticky%22%3A%20true%7D%0A%20%20%20%20%20%20%20%20%20%20%20%20%29%3B%0A%20%20%20%20%20%20%20%20%0A%20%20%20%20%0A%20%20%20%20%20%20%20%20%20%20%20%20var%20marker_8874d8cd36d64c5b8f8dac1af8fd1825%20%3D%20L.marker%28%0A%20%20%20%20%20%20%20%20%20%20%20%20%20%20%20%20%5B36.16414%2C%20-86.78289%5D%2C%0A%20%20%20%20%20%20%20%20%20%20%20%20%20%20%20%20%7B%7D%0A%20%20%20%20%20%20%20%20%20%20%20%20%29.addTo%28map_e495d046581445cbadf44f0f628fcbbc%29%3B%0A%20%20%20%20%20%20%20%20%0A%20%20%20%20%0A%20%20%20%20%20%20%20%20%20%20%20%20var%20icon_2cf21852a01445b59d19820bc65a78a3%20%3D%20L.AwesomeMarkers.icon%28%0A%20%20%20%20%20%20%20%20%20%20%20%20%20%20%20%20%7B%22extraClasses%22%3A%20%22fa-rotate-0%22%2C%20%22icon%22%3A%20%22eye%22%2C%20%22iconColor%22%3A%20%22white%22%2C%20%22markerColor%22%3A%20%22purple%22%2C%20%22prefix%22%3A%20%22fa%22%7D%0A%20%20%20%20%20%20%20%20%20%20%20%20%29%3B%0A%20%20%20%20%20%20%20%20%20%20%20%20marker_8874d8cd36d64c5b8f8dac1af8fd1825.setIcon%28icon_2cf21852a01445b59d19820bc65a78a3%29%3B%0A%20%20%20%20%20%20%20%20%0A%20%20%20%20%0A%20%20%20%20%20%20%20%20%20%20%20%20marker_8874d8cd36d64c5b8f8dac1af8fd1825.bindTooltip%28%0A%20%20%20%20%20%20%20%20%20%20%20%20%20%20%20%20%60%3Cdiv%3E%0A%20%20%20%20%20%20%20%20%20%20%20%20%20%20%20%20%20%20%20%20%20%28%27Tennessee%20Korean%20War%20Memorial%27%2C%20%27Sculpture%27%29%0A%20%20%20%20%20%20%20%20%20%20%20%20%20%20%20%20%20%3C/div%3E%60%2C%0A%20%20%20%20%20%20%20%20%20%20%20%20%20%20%20%20%7B%22sticky%22%3A%20true%7D%0A%20%20%20%20%20%20%20%20%20%20%20%20%29%3B%0A%20%20%20%20%20%20%20%20%0A%3C/script%3E onload=\"this.contentDocument.open();this.contentDocument.write(    decodeURIComponent(this.getAttribute('data-html')));this.contentDocument.close();\" allowfullscreen webkitallowfullscreen mozallowfullscreen></iframe></div></div>"
      ],
      "text/plain": [
       "<folium.folium.Map at 0x1ce778ffdf0>"
      ]
     },
     "execution_count": 61,
     "metadata": {},
     "output_type": "execute_result"
    }
   ],
   "source": [
    "#draw our zip code area: 37219\n",
    "map_37219 = folium.Map(location =  area_center, zoom_start = 15)\n",
    "\n",
    "folium.GeoJson(polygon37219).add_to(map_37219)\n",
    "\n",
    "#iterate through art_downtown to create locations and markers \n",
    "#for each art piece\n",
    "#remember for Folium locations, lat is listed first!!\n",
    "\n",
    "for row_index, row_values in art_downtown.iterrows():\n",
    "    loc = [row_values['Latitude'], row_values['Longitude']]\n",
    "    tip = str(row_values['Title']), str(row_values['Type'])\n",
    "    icon=folium.Icon(color=\"purple\",icon=\"eye\", prefix='fa')\n",
    "    \n",
    "    marker = folium.Marker(\n",
    "        location = loc, \n",
    "        tooltip = tip, icon = icon) \n",
    "\n",
    "    marker.add_to(map_37219)\n",
    "map_37219.save('../maps/map37219.html')\n",
    "\n",
    "#display our map\n",
    "map_37219"
   ]
  }
 ],
 "metadata": {
  "kernelspec": {
   "display_name": "Python 3 (ipykernel)",
   "language": "python",
   "name": "python3"
  },
  "language_info": {
   "codemirror_mode": {
    "name": "ipython",
    "version": 3
   },
   "file_extension": ".py",
   "mimetype": "text/x-python",
   "name": "python",
   "nbconvert_exporter": "python",
   "pygments_lexer": "ipython3",
   "version": "3.8.5"
  }
 },
 "nbformat": 4,
 "nbformat_minor": 5
}
